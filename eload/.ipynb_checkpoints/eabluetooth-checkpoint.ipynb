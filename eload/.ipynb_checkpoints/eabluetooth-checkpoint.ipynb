{
 "cells": [
  {
   "cell_type": "markdown",
   "metadata": {},
   "source": [
    "# 12. előadás\n",
    "_Tartalom_: Párhuzamos programozás"
   ]
  },
  {
   "cell_type": "markdown",
   "metadata": {},
   "source": [
    "todo\n",
    "``` python\n",
    "s = threading.Thread(target=sendMsg)\n",
    "r = threading.Thread(target=readMsg)\n",
    "\n",
    "s.start()\n",
    "r.start()\n",
    "\n",
    "s.join() # block until all tasks are done\n",
    "r.join() # block until all tasks are done\n",
    "```"
   ]
  },
  {
   "cell_type": "code",
   "execution_count": 12,
   "metadata": {},
   "outputs": [
    {
     "name": "stdout",
     "output_type": "stream",
     "text": [
      "alvás[0] alvás[1] alvás[2] alvás[3] alvás[4]alvás[5]  vége[1]vége[0]vége[4]vége[3]vége[5]vége[2]"
     ]
    }
   ],
   "source": [
    "import time\n",
    "from threading import Thread\n",
    "\n",
    "def myfunc(i):\n",
    "    print(\"alvás[%d]\" % i, end = \" \")\n",
    "    time.sleep(5)\n",
    "    print(\"vége[%d]\" % i, end = \"\")\n",
    "\n",
    "for i in range(6):\n",
    "    t = Thread(target=myfunc, args=(i,))\n",
    "    t.start()"
   ]
  },
  {
   "cell_type": "markdown",
   "metadata": {},
   "source": [
    "### _Used sources_ / Felhasznált források\n",
    "- [Shannon Turner: Python lessons repository](https://github.com/shannonturner/python-lessons) MIT license (c) Shannon Turner 2013-2014\n",
    "- [Siki Zoltán: Python mogyoróhéjban](http://www.agt.bme.hu/gis/python/python_oktato.pdf) GNU FDL license (c) Siki Zoltán\n",
    "- [BME AUT](https://github.com/bmeaut) MIT License Copyright (c) BME AUT 2016-2018\n",
    "- [https://www.saltycrane.com/blog/2008/09/simplistic-python-thread-example/](Python Thread example SaltyCrane)"
   ]
  }
 ],
 "metadata": {
  "kernelspec": {
   "display_name": "Python 3",
   "language": "python",
   "name": "python3"
  },
  "language_info": {
   "codemirror_mode": {
    "name": "ipython",
    "version": 3
   },
   "file_extension": ".py",
   "mimetype": "text/x-python",
   "name": "python",
   "nbconvert_exporter": "python",
   "pygments_lexer": "ipython3",
   "version": "3.7.1"
  }
 },
 "nbformat": 4,
 "nbformat_minor": 2
}
