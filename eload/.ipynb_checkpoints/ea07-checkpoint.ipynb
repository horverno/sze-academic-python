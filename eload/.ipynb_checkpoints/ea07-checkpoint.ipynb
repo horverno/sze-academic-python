{
 "cells": [
  {
   "cell_type": "markdown",
   "metadata": {},
   "source": [
    "# 7. előadás\n",
    "*Tartalom:* Függvények, pár további hasznos library (import from ... import ... as szintaktika, time, random, math, regex (regular expressions), os, sys)\n",
    "\n",
    "### Függvények\n",
    "\n",
    "Találkozhattunk már függvényekkel más programnyelvek kapcsán. \n",
    "\n",
    "De valójában mik is azok a függvények? A függvények:\n",
    "\n",
    "    • újrahasználható kódok\n",
    "    • valamilyen specifikus feladatot végeznek el\n",
    "    • flexibilisek\n",
    "    • egyszer definiálandók\n",
    "    • nem csinálnak semmit, amíg nem hívjuk meg őket\n",
    "\n",
    "Hogyan definiálunk egy függvényt?\n",
    "\n",
    "\n",
    "``` python\n",
    "def fuggveny_neve(parameter1, parameter2, stb):\n",
    "    # ide írjuk a kódot\n",
    "    return visszatérési_érték_lista1, v_2, v_3 # opcionális! \n",
    "```\n",
    "\n",
    "Ezt hívni a következőképp lehet:\n",
    "\n",
    "``` python\n",
    "a, b, c = fuggveny_neve(parameter1, parameter2 …)\n",
    "# vagy, ha nem vagyunk kiváncsiak az összes visszatérési értékre\n",
    "a, _, _ = fuggveny_neve(parameter1, parameter2 …)\n",
    "```\n",
    "\n",
    "\n",
    "Kezdjük egy egyszerű függvénnyel! Írjunk egy olyan függvényt, amely a `\"Helló, <név>\"` sztringet adja vissza:\n"
   ]
  },
  {
   "cell_type": "code",
   "execution_count": 1,
   "metadata": {},
   "outputs": [
    {
     "name": "stdout",
     "output_type": "stream",
     "text": [
      "Hello, Tamás!"
     ]
    }
   ],
   "source": [
    "def udvozlet(nev):\n",
    "    print(\"Hello,\", nev, end=\"!\")\n",
    "\n",
    "udvozlet(\"Tamás\")"
   ]
  },
  {
   "cell_type": "markdown",
   "metadata": {},
   "source": [
    "Egyes függvényeknek van paraméterük/argumentumuk, másoknak azonban nincs. Egyes esetekben a paraméteres függvények bizonyulhatnak megfelelőnek, pont a paraméterek nyújtotta flexibilitás miatt, más esetekben pedig pont a paraméter nélküli függvények használata szükséges.\n",
    "Egyes függvényeknek sok visszatérési érékük van, másoknál elhagyható a `return`. \n",
    "\n",
    "Írjunk egy olyan `adat_generalas` függvényt, amely 3 paramétert fogad: a generálandó listák darabszámát, lépésközét és opcionálisan egy eltolás értéket, amit hozzáadunk a generált adatokhoz. Amenyyiben nem adjuk meg a 3. paramétert, az eltolást, úgy az alapértelmezett érték legyen `0`. A 3 visszatérsi érték az `X` adat, valamint a 2 `Y` adat (koszinusz és színusz)."
   ]
  },
  {
   "cell_type": "code",
   "execution_count": 2,
   "metadata": {
    "collapsed": true
   },
   "outputs": [],
   "source": [
    "import math\n",
    "\n",
    "def adat_generalas(darab, lepes, eltolas = 0):\n",
    "    x = [x * lepes for x in range(0, darab)]\n",
    "    y_sin = [math.sin(x * lepes) + eltolas for x in range(0, darab)]\n",
    "    y_cos = [math.cos(x * lepes) + eltolas for x in range(0, darab)]\n",
    "    return x, y_sin, y_cos"
   ]
  },
  {
   "cell_type": "markdown",
   "metadata": {},
   "source": [
    "Próbáljuk ki a fenti függvényt és jelezzük ki `plot`-ként."
   ]
  },
  {
   "cell_type": "code",
   "execution_count": 3,
   "metadata": {},
   "outputs": [
    {
     "data": {
      "image/png": "[encoded data removed]",
      "text/plain": [
       "<Figure size 432x288 with 1 Axes>"
      ]
     },
     "metadata": {},
     "output_type": "display_data"
    }
   ],
   "source": [
    "import matplotlib.pyplot as plt\n",
    "\n",
    "x1, y1, y2 = adat_generalas(80, 0.1)\n",
    "x2, y3, _  = adat_generalas(400, 0.02, 0.2)\n",
    "\n",
    "plt.plot(x1, y1, \".\")\n",
    "plt.plot(x1, y2, \".\")\n",
    "plt.plot(x2, y3, \"*\")\n",
    "plt.show()"
   ]
  },
  {
   "cell_type": "markdown",
   "metadata": {},
   "source": [
    "A paraméterekkel rendelkező függvényeknél nagyon fontos a paraméterek sorrendje. Nem mindegy, hogy függvényhíváskor milyen sorrendben adjuk meg a paramétereket. Pl.:"
   ]
  },
  {
   "cell_type": "code",
   "execution_count": 4,
   "metadata": {
    "collapsed": true
   },
   "outputs": [],
   "source": [
    "def upload_events(events_file, location):\n",
    "    # … (feltehetően a kód jön ide) …\n",
    "    return\n",
    "\n",
    "# Helytelen hívás!!!\n",
    "upload_events(\"New York\", \"events.csv\")\n",
    "# Helyes hívás!!!\n",
    "upload_events(\"events.csv\", \"New York\")"
   ]
  },
  {
   "cell_type": "markdown",
   "metadata": {},
   "source": [
    "Ha azonban nem kedveljük ezt a szabályt, akár át is hághatjuk úgy, hogy megmondjuk a függvénynek, melyik érték, melyik változóhoz tartozik!"
   ]
  },
  {
   "cell_type": "code",
   "execution_count": 5,
   "metadata": {
    "collapsed": true
   },
   "outputs": [],
   "source": [
    "# Így is helyes!!!\n",
    "upload_events(location=\"New York\", events_file=\"events.csv\")"
   ]
  },
  {
   "cell_type": "markdown",
   "metadata": {},
   "source": [
    "Fontos még megemlíteni a függvények visszatérési értékét. A függvények egy vagy több értéket adhatnak vissza a **return** parancsszó meghívásával. A nem meghatározott visszatérési érték az ún. **None**. Ezen kívül visszatérési érték lehet *szám, karakter, sztring, lista, könyvtár, TRUE, FALSE,* vagy bármilyen más típus."
   ]
  },
  {
   "cell_type": "code",
   "execution_count": 6,
   "metadata": {},
   "outputs": [
    {
     "data": {
      "text/plain": [
       "30"
      ]
     },
     "execution_count": 6,
     "metadata": {},
     "output_type": "execute_result"
    }
   ],
   "source": [
    "# Egy érték vissza adása\n",
    "def product(x, y):\n",
    "    return x*y\n",
    "\n",
    "product(5,6)"
   ]
  },
  {
   "cell_type": "code",
   "execution_count": 7,
   "metadata": {
    "collapsed": true
   },
   "outputs": [],
   "source": [
    "# Több érték vissza adása\n",
    "def get_attendees(filename):\n",
    "    # Ide jön a kód, amely vissza adja a „teacher”, „assistants” és „students” értékeket.\n",
    "    #teacher, assistants, students = get_attendees(\"file.csv\")\n",
    "    return"
   ]
  },
  {
   "cell_type": "markdown",
   "metadata": {},
   "source": [
    "## További hasznos könyvtárak:\n",
    "\n",
    "#### Az *import* szintakszis\n",
    "\n",
    "Ahhoz, hogy beépített függvényeket használjunk a kódban, szükség van azok elérésére. Ezek általában modulokban, vagy csomagokban találhatók. Ezeket az **import** kulcsszóval tudjuk beépíteni. Amikor a Python importálja pl. a *hello* nevű modult, akkor az interpreter először végig listázza a beépített modulokat, és ha nem találja ezek között, akkor elkezdi keresni a *hello.py* nevű fájlt azokban a mappákban, amelyeknek listáját a **sys.path** változótól kapja meg. Az importálás alapvető szintaktikája az **import** kulcsszóból és a beillesztendő modul nevéből áll.\n",
    "\n",
    "**import hello**"
   ]
  },
  {
   "cell_type": "markdown",
   "metadata": {},
   "source": [
    "Mikor importálunk egy modult, elérhetővé tesszük azt a kódunkban, mint egy különálló névteret (*namespace*). Ez azt jelenti, hogy amikor meghívunk egy függvényt, pont (.) jellel kell összekapcsolnunk a modulnévvel így: [modul].[függvény]"
   ]
  },
  {
   "cell_type": "code",
   "execution_count": 8,
   "metadata": {},
   "outputs": [
    {
     "data": {
      "text/plain": [
       "5"
      ]
     },
     "execution_count": 8,
     "metadata": {},
     "output_type": "execute_result"
    }
   ],
   "source": [
    "import random\n",
    "\n",
    "random.randint(0,5) #meghívja a randint függvényt, ami egy random egész számot ad vissza"
   ]
  },
  {
   "cell_type": "markdown",
   "metadata": {},
   "source": [
    "Nézzünk erre egy példát, amely 10 véletlenszerű egész számot ír ki!"
   ]
  },
  {
   "cell_type": "code",
   "execution_count": 9,
   "metadata": {},
   "outputs": [
    {
     "name": "stdout",
     "output_type": "stream",
     "text": [
      "4\n",
      "17\n",
      "15\n",
      "11\n",
      "19\n",
      "24\n",
      "4\n",
      "14\n",
      "8\n",
      "7\n"
     ]
    }
   ],
   "source": [
    "import random\n",
    "\n",
    "for i in range(10):\n",
    "    print(random.randint(1, 25))"
   ]
  },
  {
   "cell_type": "markdown",
   "metadata": {},
   "source": [
    "#### A *from … import …*  szintakszis\n",
    "\n",
    "Általában akkor használjuk, mikor hivatkozni akarunk egy konkrét függvényre a modulból, így elkerüljük a ponttal való referálást. Nézzük az előző példát ezzel a megoldással:"
   ]
  },
  {
   "cell_type": "code",
   "execution_count": 10,
   "metadata": {},
   "outputs": [
    {
     "name": "stdout",
     "output_type": "stream",
     "text": [
      "2\n",
      "16\n",
      "10\n",
      "11\n",
      "19\n",
      "21\n",
      "6\n",
      "21\n",
      "23\n",
      "9\n"
     ]
    }
   ],
   "source": [
    "from random import randint\n",
    "\n",
    "for i in range(10):\n",
    "    print(randint(1, 25))"
   ]
  },
  {
   "cell_type": "markdown",
   "metadata": {},
   "source": [
    "#### Aliasok használata, az *import … as …*  szintakszis\n",
    "\n",
    "Pythonban lehetőség van a modulok és azok függvényeinek átnevezésére az **as** kulcsszó segítségével, _ilyet már régebben is használtunk_. Pl.:"
   ]
  },
  {
   "cell_type": "code",
   "execution_count": 11,
   "metadata": {
    "collapsed": true
   },
   "outputs": [],
   "source": [
    "import math as m"
   ]
  },
  {
   "cell_type": "markdown",
   "metadata": {},
   "source": [
    "Egyes hosszú nevű modulok helyett pl. általánosan megszokott az aliasok használata. Ilyet régóta használunk pl.:"
   ]
  },
  {
   "cell_type": "code",
   "execution_count": 12,
   "metadata": {
    "collapsed": true
   },
   "outputs": [],
   "source": [
    "import matplotlib.pyplot as plt"
   ]
  },
  {
   "cell_type": "markdown",
   "metadata": {},
   "source": [
    "### A *time* és *datetime* könyvtárak:\n",
    "\n",
    "A **time** modul alapvető idővel és dátummal kapcsolatos függvényeket tartalmaz. Két különböző megjelenítési formát használ és számos függvény segít ezeknek az oda-vissza konvertálásában:\n",
    "\n",
    "   - **float** másodpercek száma – ez a UNIX belső megjelenítési formája. Ebben a megjelenítési formában az egyes időpontok között eltelt idő egy lebegőpontos szám.\n",
    "   - **struct_time** oblektum – ez kilenc attribútummal rendelkezik egy időpont megjelenítésére, a Gergely naptár szerinti dátumkövetést alkalmazva. Ebben a formában nincs lehetőség két időpont között eltelt idő megjelenítésére, ilyenkor oda-vissza kell konvertálnunk a **float** és **struct_time** között.\n",
    "\n",
    "A **datetime** modul tartalmaz minden szükséges objektumot és metódust, amelyek szükségesek lehetnek a Gergely naptár szerinti időszámítás helyes kezeléséhez. A **datetime** csak egyfajta időpont megjelenítési formát tartalmaz, ellenben négy olyan osztállyal rendelkezik, amelyekkel könnyedén kezelhetjük a dátumokat és időpontokat:\n",
    "\n",
    "   - **datetime.time** – négy attribítummal rendelkezik, ezek az óra, perc, másodperc és a századmásodperc.\n",
    "   - **datetime.date** – három attribútuma van, ezek az év, hónap és a nap.\n",
    "   - **datetime.datetime** – ez kombinálni képes a **datetime.time** és **datetime.date** osztályokat.\n",
    "   - **datetime.timedelta** – ez az eltelt időt mutatja meg két **date**, **time** vagy **datetime** között. Az értékei megjeleníthetők napokban, másodpercekben vagy századmásodpercekben.\n",
    "\n",
    "Nézzünk néhány példát:"
   ]
  },
  {
   "cell_type": "code",
   "execution_count": 13,
   "metadata": {},
   "outputs": [
    {
     "name": "stdout",
     "output_type": "stream",
     "text": [
      "2018-11-03\n"
     ]
    }
   ],
   "source": [
    "from datetime import date\n",
    "print(date.today()) # aktuális napi dátum"
   ]
  },
  {
   "cell_type": "code",
   "execution_count": 14,
   "metadata": {},
   "outputs": [
    {
     "name": "stdout",
     "output_type": "stream",
     "text": [
      "2018-11-03 16:56:27.864289\n"
     ]
    }
   ],
   "source": [
    "from datetime import datetime\n",
    "print(datetime.now()) # pillanatnyi idő"
   ]
  },
  {
   "cell_type": "markdown",
   "metadata": {},
   "source": [
    "Próbáljuk ki, hogy amennyiben két időpont között várunk 2 másodpercet, az ténylegesen pontosan mennyi eltelt időt jelent."
   ]
  },
  {
   "cell_type": "code",
   "execution_count": 15,
   "metadata": {},
   "outputs": [
    {
     "name": "stdout",
     "output_type": "stream",
     "text": [
      "2018-11-03 16:56:27.890289\n",
      "2018-11-03 16:56:29.892894\n",
      "Ténylegesen eltelt idő: 0:02:00.156300\n"
     ]
    }
   ],
   "source": [
    "from datetime import timedelta\n",
    "from time import sleep\n",
    "\n",
    "t1 = datetime.now()\n",
    "print(t1)\n",
    "sleep(2) # várjunk 2 másodpercet\n",
    "t2 = datetime.now()\n",
    "print(t2)\n",
    "\n",
    "print(\"Ténylegesen eltelt idő:\", timedelta(minutes=(t2-t1).total_seconds())) # valamilyen eltelt idő"
   ]
  },
  {
   "cell_type": "code",
   "execution_count": 16,
   "metadata": {},
   "outputs": [
    {
     "data": {
      "text/plain": [
       "5e-07"
      ]
     },
     "execution_count": 16,
     "metadata": {},
     "output_type": "execute_result"
    }
   ],
   "source": [
    "import time\n",
    "time.clock() # másodpercek lebegőpontos ábrázolása. UNIX rendszeren a processzor időt, Windowson a függvény első hívásától eltelt időt mutatja fali óra szerint."
   ]
  },
  {
   "cell_type": "markdown",
   "metadata": {},
   "source": [
    "### A *random* könytár:\n",
    "\n",
    "Ez a könyvtár pszeudó-random generátorokat képes létrehozni. Nézzünk néhány konkrét példát:"
   ]
  },
  {
   "cell_type": "code",
   "execution_count": 17,
   "metadata": {},
   "outputs": [
    {
     "data": {
      "text/plain": [
       "0.4714869230419948"
      ]
     },
     "execution_count": 17,
     "metadata": {},
     "output_type": "execute_result"
    }
   ],
   "source": [
    "from random import random\n",
    "random() #random float [0, 1) között"
   ]
  },
  {
   "cell_type": "code",
   "execution_count": 18,
   "metadata": {},
   "outputs": [
    {
     "data": {
      "text/plain": [
       "8.511922966088447"
      ]
     },
     "execution_count": 18,
     "metadata": {},
     "output_type": "execute_result"
    }
   ],
   "source": [
    "from random import uniform\n",
    "uniform(2.5, 10.0) #random float [2.5, 10.0) között"
   ]
  },
  {
   "cell_type": "code",
   "execution_count": 19,
   "metadata": {},
   "outputs": [
    {
     "data": {
      "text/plain": [
       "12.330858008789722"
      ]
     },
     "execution_count": 19,
     "metadata": {},
     "output_type": "execute_result"
    }
   ],
   "source": [
    "from random import expovariate\n",
    "expovariate(1/10) # 1 osztva egy nem nulla értékű középértékkel"
   ]
  },
  {
   "cell_type": "code",
   "execution_count": 20,
   "metadata": {},
   "outputs": [
    {
     "data": {
      "text/plain": [
       "(8, 84)"
      ]
     },
     "execution_count": 20,
     "metadata": {},
     "output_type": "execute_result"
    }
   ],
   "source": [
    "from random import randrange\n",
    "num1=randrange(10) # [0,9] közé eső random integer: randrange(stop)\n",
    "num2=randrange(0, 101, 2) # [0,100] közé eső páros integer: randrange(start, stop, step)\n",
    "num1, num2"
   ]
  },
  {
   "cell_type": "code",
   "execution_count": 21,
   "metadata": {},
   "outputs": [
    {
     "data": {
      "text/plain": [
       "'win'"
      ]
     },
     "execution_count": 21,
     "metadata": {},
     "output_type": "execute_result"
    }
   ],
   "source": [
    "from random import choice\n",
    "choice(['win', 'lose', 'draw']) # egy lista egyik random eleme"
   ]
  },
  {
   "cell_type": "code",
   "execution_count": 22,
   "metadata": {},
   "outputs": [
    {
     "data": {
      "text/plain": [
       "['four', 'ace', 'two', 'three']"
      ]
     },
     "execution_count": 22,
     "metadata": {},
     "output_type": "execute_result"
    }
   ],
   "source": [
    "from random import shuffle\n",
    "deck = 'ace two three four'.split()\n",
    "shuffle(deck) # elemek összekeverése\n",
    "deck"
   ]
  },
  {
   "cell_type": "code",
   "execution_count": 23,
   "metadata": {},
   "outputs": [
    {
     "data": {
      "text/plain": [
       "[20, 10, 70, 40]"
      ]
     },
     "execution_count": 23,
     "metadata": {},
     "output_type": "execute_result"
    }
   ],
   "source": [
    "from random import sample\n",
    "sample([10, 20, 30, 40, 50, 60, 70], k=4) #k=n darab elemet ad vissza a halmazból"
   ]
  },
  {
   "cell_type": "code",
   "execution_count": 24,
   "metadata": {},
   "outputs": [
    {
     "data": {
      "text/plain": [
       "5"
      ]
     },
     "execution_count": 24,
     "metadata": {},
     "output_type": "execute_result"
    }
   ],
   "source": [
    "from random import randint\n",
    "randint(1,10) # random integert ad [1,10] intervallumban"
   ]
  },
  {
   "cell_type": "markdown",
   "metadata": {},
   "source": [
    "### A *math* könyvtár\n",
    "\n",
    "Matematikai függvények használatát teszi lehetővé C szabvány alapján. Néhány konkrét példa:"
   ]
  },
  {
   "cell_type": "code",
   "execution_count": 25,
   "metadata": {},
   "outputs": [
    {
     "data": {
      "text/plain": [
       "6"
      ]
     },
     "execution_count": 25,
     "metadata": {},
     "output_type": "execute_result"
    }
   ],
   "source": [
    "import math\n",
    "math.ceil(5.6) # lebegőpontos számok felkerekítése egész típusú számmá"
   ]
  },
  {
   "cell_type": "code",
   "execution_count": 26,
   "metadata": {},
   "outputs": [
    {
     "data": {
      "text/plain": [
       "3628800"
      ]
     },
     "execution_count": 26,
     "metadata": {},
     "output_type": "execute_result"
    }
   ],
   "source": [
    "math.factorial(10) # fatoriális számítás"
   ]
  },
  {
   "cell_type": "code",
   "execution_count": 27,
   "metadata": {},
   "outputs": [
    {
     "data": {
      "text/plain": [
       "5"
      ]
     },
     "execution_count": 27,
     "metadata": {},
     "output_type": "execute_result"
    }
   ],
   "source": [
    "math.floor(5.6) # lebegőpontos számok lefele kerekítése egész típusú számmá"
   ]
  },
  {
   "cell_type": "code",
   "execution_count": 28,
   "metadata": {},
   "outputs": [
    {
     "data": {
      "text/plain": [
       "2"
      ]
     },
     "execution_count": 28,
     "metadata": {},
     "output_type": "execute_result"
    }
   ],
   "source": [
    "math.gcd(122, 6) # visszaadja a két szám legnyagyobb közös osztóját"
   ]
  },
  {
   "cell_type": "code",
   "execution_count": 29,
   "metadata": {},
   "outputs": [
    {
     "data": {
      "text/plain": [
       "7.38905609893065"
      ]
     },
     "execution_count": 29,
     "metadata": {},
     "output_type": "execute_result"
    }
   ],
   "source": [
    "math.exp(2) # Euler-féle szám az x hatványra emelve"
   ]
  },
  {
   "cell_type": "markdown",
   "metadata": {},
   "source": [
    "Ennek pythonban nem sok értelme van, ahatványozás megy a `**` művelettel is. (`2 ** 3`)."
   ]
  },
  {
   "cell_type": "code",
   "execution_count": 30,
   "metadata": {},
   "outputs": [
    {
     "data": {
      "text/plain": [
       "8.0"
      ]
     },
     "execution_count": 30,
     "metadata": {},
     "output_type": "execute_result"
    }
   ],
   "source": [
    "math.pow(2, 3) # pow(x,y): x az y hatványra emelve, rövidebben 2**3"
   ]
  },
  {
   "cell_type": "code",
   "execution_count": 31,
   "metadata": {},
   "outputs": [
    {
     "data": {
      "text/plain": [
       "6.0"
      ]
     },
     "execution_count": 31,
     "metadata": {},
     "output_type": "execute_result"
    }
   ],
   "source": [
    "math.sqrt(36) # négyzetgyökvonás, rövidebben 36**0.5"
   ]
  },
  {
   "cell_type": "code",
   "execution_count": 32,
   "metadata": {},
   "outputs": [
    {
     "data": {
      "text/plain": [
       "0.8775825618903728"
      ]
     },
     "execution_count": 32,
     "metadata": {},
     "output_type": "execute_result"
    }
   ],
   "source": [
    "math.cos(0.5) # cosinus függvény radiánokban kifejezve, ugyanígy működik a math.sin(x) is."
   ]
  },
  {
   "cell_type": "code",
   "execution_count": 33,
   "metadata": {},
   "outputs": [
    {
     "data": {
      "text/plain": [
       "57.29577951308232"
      ]
     },
     "execution_count": 33,
     "metadata": {},
     "output_type": "execute_result"
    }
   ],
   "source": [
    "math.degrees(1) # radián-fok konverzió, ugyanígy math.radian(x) fok-radián átalakító."
   ]
  },
  {
   "cell_type": "markdown",
   "metadata": {},
   "source": [
    "Matematikai állandók:"
   ]
  },
  {
   "cell_type": "code",
   "execution_count": 34,
   "metadata": {
    "scrolled": true
   },
   "outputs": [
    {
     "name": "stdout",
     "output_type": "stream",
     "text": [
      "3.141592653589793\n",
      "2.718281828459045\n",
      "inf\n",
      "nan\n"
     ]
    }
   ],
   "source": [
    "print(math.pi) # Pi\n",
    "print(math.e) # Euler-szám\n",
    "print(math.inf) # végtelen\n",
    "print(math.nan) # nem szám (not a number)"
   ]
  },
  {
   "cell_type": "markdown",
   "metadata": {},
   "source": [
    "### Az *OS* könyvtár\n",
    "\n",
    "Az OS modul alapvetően olyan függvényeket tartalmaz melyek az operációs rendszerrel kapcsolatos műveleteket támogatja. A modul beszúrása az **`import os`** paranccsal történik. Nézzünk néhány ilyen metódust:"
   ]
  },
  {
   "cell_type": "code",
   "execution_count": 35,
   "metadata": {},
   "outputs": [
    {
     "data": {
      "text/plain": [
       "0"
      ]
     },
     "execution_count": 35,
     "metadata": {},
     "output_type": "execute_result"
    }
   ],
   "source": [
    "import os\n",
    "os.system(\"dir\") # shell parancsot hajt végre, ha a parancs hatással van a kimentre, akkor ez nem jelenik meg"
   ]
  },
  {
   "cell_type": "markdown",
   "metadata": {},
   "source": [
    "Visszatérésként csak `0`-t ad, ha sikeres és `1`-et, ha nem sikeres a művelet. De a konzolon megjelenik minden kimenet: \n",
    "\n",
    "```python\n",
    "\n",
    "Directory of C:\\Users\\herno\\Documents\\GitHub\\sze-academic-python\\eload\n",
    "\n",
    "2018-11-03  16:42    <DIR>          .\n",
    "2018-11-03  16:42    <DIR>          ..\n",
    "2018-10-24  06:16    <DIR>          .ipynb_checkpoints\n",
    "2018-10-24  11:02    <DIR>          data\n",
    "2018-10-24  06:16             5,846 ea00.md\n",
    "2018-11-03  15:30            18,775 ea01.ipynb\n",
    "2018-07-31  17:41            21,838 ea02.ipynb\n",
    "2018-07-31  17:41            26,484 ea03.ipynb\n",
    "2018-09-10  15:23           293,223 ea04.ipynb\n",
    "2018-10-24  06:16           128,088 ea05.ipynb\n",
    "2018-07-17  11:01            34,838 ea06.ipynb\n",
    "2018-11-03  16:42            49,489 ea07.ipynb\n",
    "2018-11-03  15:30            10,384 ea08.ipynb\n",
    "2018-11-03  15:30           401,267 ea10.ipynb\n",
    "```"
   ]
  },
  {
   "cell_type": "code",
   "execution_count": 36,
   "metadata": {},
   "outputs": [
    {
     "data": {
      "text/plain": [
       "'C:\\\\Users\\\\herno\\\\Documents\\\\GitHub\\\\sze-academic-python\\\\eload'"
      ]
     },
     "execution_count": 36,
     "metadata": {},
     "output_type": "execute_result"
    }
   ],
   "source": [
    "os.getcwd() # kiírja az ektuális munkakönytárat"
   ]
  },
  {
   "cell_type": "code",
   "execution_count": 37,
   "metadata": {},
   "outputs": [
    {
     "data": {
      "text/plain": [
       "9624"
      ]
     },
     "execution_count": 37,
     "metadata": {},
     "output_type": "execute_result"
    }
   ],
   "source": [
    "os.getpid() # ez a futó folyamat ID-jét írja ki"
   ]
  },
  {
   "cell_type": "markdown",
   "metadata": {},
   "source": [
    "A további példák nem kerülnek lefuttatásra, csak felsoroljuk őket:\n",
    "\n",
    "1) `os.chroot(path)` - a folyamat root könytárának megváltoztatása `'path'` elérésre\n",
    "\n",
    "2) `os.listdir(path)` - belépések száma az adott könytárba\n",
    "\n",
    "3) `os.mkdir(path)` - könyvtár létrehozása a `'path'` útvonalon\n",
    "\n",
    "4) `os.remove(path)` - a `'path'`-ban levő fájl törlése\n",
    "\n",
    "5) `os.removedirs(path)` - könyvtárak rekurzív törlése\n",
    "\n",
    "6) `os.rename(src, dst)` - az `'src'` átnevezése `'dst'`-re, ez lehet fájl vagy könyvtár"
   ]
  },
  {
   "cell_type": "markdown",
   "metadata": {},
   "source": [
    "### A *sys* könyvtár\n",
    "\n",
    "A **sys** modul különféle információval szolgál az egyes Python interptreterrel kapcsolatos konstansokról, függvényekről és metódusokról. "
   ]
  },
  {
   "cell_type": "code",
   "execution_count": 38,
   "metadata": {},
   "outputs": [
    {
     "name": "stderr",
     "output_type": "stream",
     "text": [
      "Ez egy stderr szoveg\n"
     ]
    },
    {
     "name": "stdout",
     "output_type": "stream",
     "text": [
      "Ez egy stdout szoveg\n"
     ]
    }
   ],
   "source": [
    "import sys\n",
    "\n",
    "sys.stderr.write('Ez egy stderr szoveg\\n') # stderr kimenetre küld hibaüzenetet\n",
    "sys.stderr.flush() # a pufferben eltárolt tartalmat flush-olja a kimenetre\n",
    "sys.stdout.write('Ez egy stdout szoveg\\n') # szöveget küld az stdout-ra"
   ]
  },
  {
   "cell_type": "code",
   "execution_count": 39,
   "metadata": {},
   "outputs": [
    {
     "name": "stdout",
     "output_type": "stream",
     "text": [
      "script name is c:\\users\\herno\\appdata\\local\\programs\\python\\python35\\lib\\site-packages\\ipykernel_launcher.py\n"
     ]
    }
   ],
   "source": [
    "print (\"script name is\", sys.argv[0]) # az 'argv' tartalmazza a parancssori argumentumokat,\n",
    "                                    # ezen belül az argv[0] maga a szkript neve"
   ]
  },
  {
   "cell_type": "code",
   "execution_count": 40,
   "metadata": {},
   "outputs": [
    {
     "name": "stdout",
     "output_type": "stream",
     "text": [
      "Az elérési útvonalon 8 elem van.\n"
     ]
    },
    {
     "data": {
      "text/plain": [
       "['',\n",
       " 'c:\\\\users\\\\herno\\\\appdata\\\\local\\\\programs\\\\python\\\\python35\\\\python35.zip',\n",
       " 'c:\\\\users\\\\herno\\\\appdata\\\\local\\\\programs\\\\python\\\\python35\\\\DLLs',\n",
       " 'c:\\\\users\\\\herno\\\\appdata\\\\local\\\\programs\\\\python\\\\python35\\\\lib',\n",
       " 'c:\\\\users\\\\herno\\\\appdata\\\\local\\\\programs\\\\python\\\\python35',\n",
       " 'c:\\\\users\\\\herno\\\\appdata\\\\local\\\\programs\\\\python\\\\python35\\\\lib\\\\site-packages',\n",
       " 'c:\\\\users\\\\herno\\\\appdata\\\\local\\\\programs\\\\python\\\\python35\\\\lib\\\\site-packages\\\\IPython\\\\extensions',\n",
       " 'C:\\\\Users\\\\herno\\\\.ipython']"
      ]
     },
     "execution_count": 40,
     "metadata": {},
     "output_type": "execute_result"
    }
   ],
   "source": [
    "print (\"Az elérési útvonalon\", len(sys.path), \"elem van.\") # lekérdezzük a 'path'-ban levő elemek számát\n",
    "sys.path # kiíratjuk a 'path'-ban levő elemeket"
   ]
  },
  {
   "cell_type": "markdown",
   "metadata": {},
   "source": [
    "``` python\n",
    "print(sys.modules.keys()) # kiíratjuk az importált modulok neveit\n",
    "```\n",
    "```\n",
    "dict_keys(['pkgutil', '__future__', 'filecmp', 'mpl_toolkits', 'platform', 'distutils.debug', 'jedi.evaluate.context', 'ctypes._endian', 'msvcrt', 'parso.pgen2.parse', '_stat', 'jedi.evaluate', '_pickle', 'parso.python.pep8', 'jedi.evaluate.context.module', 'distutils.log', 'collections', \n",
    "......\n",
    "```"
   ]
  },
  {
   "cell_type": "code",
   "execution_count": 41,
   "metadata": {},
   "outputs": [
    {
     "name": "stdout",
     "output_type": "stream",
     "text": [
      "win32\n"
     ]
    }
   ],
   "source": [
    "print (sys.platform) # lekérdezzük a platformunk típusát"
   ]
  },
  {
   "cell_type": "markdown",
   "metadata": {},
   "source": [
    "``` python\n",
    "print(\"hello\")\n",
    "\n",
    "sys.exit(1) # nem lép ki egyből, hanem meghívja a 'SystemExit' kivételt. Ennek kezelésére látsd a következő példát.\n",
    "\n",
    "print(\"there\")\n",
    "\n",
    "Output:\n",
    "hello\n",
    "SystemExit: 1\n",
    "``` "
   ]
  },
  {
   "cell_type": "code",
   "execution_count": 44,
   "metadata": {},
   "outputs": [
    {
     "name": "stdout",
     "output_type": "stream",
     "text": [
      "hello\n",
      "there\n"
     ]
    }
   ],
   "source": [
    "print (\"hello\")\n",
    "\n",
    "try: # 'try'-al kezeljük a 'SystemExit' kivételt\n",
    "    sys.exit(1)\n",
    "except SystemExit:\n",
    "    pass\n",
    "\n",
    "print (\"there\")"
   ]
  },
  {
   "cell_type": "markdown",
   "metadata": {},
   "source": [
    "### A reguláris kifejezések: *regex*\n",
    "\n",
    "\n",
    "Számos helyzetben kell sztringeket feldolgoznunk. Ezek a sztringek azonban nem mindig érkeznek egyből értelmezhető formában, vagy nem követnek semmilyen mintát. Ilyenkor elég nehéz ezek feldolgozása. Erre nyújt egy elfogadható megoldást a reguláris kifejezések alkalmazása. A **reguláris kifejezés** tehát egy minta, vagy mintasorozat, amelynek segítségével könnyebben feldolgozhatjuk az egy adott halmazhoz tartozó adatokat, melyeknek egy közös mintát kellene követniük. Nézzünk egy példát!\n",
    "\n",
    "Ha pl. a minta szabályom az \"aba\" szócska, akkor minden olyan sztring, amely megfelel az \"aba\" formátumnak, beletartozik a halmazba. Egy ilyen egyszerű szabály azonban csak egyszerű sztringeket képes kezelni.\n",
    "\n",
    "Egy összetettebb szabály, mint pl. a \"ab&ast;a\" már sokkal több kimeneti lehetőséget nyújt. Lényegében, sztringek végtelen halmazát képes generálni, olyanokat mint: \"aa\", \"aba\", \"abba\", stb. Itt már kicsit nehezebb ellenőrizni, hogy a generált sztring ebből a szabályból származik-e. \n",
    "\n",
    "#### Néhány alapszabályt a reguláris kifejezések létrehozásával kapcsolatban\n",
    "\n",
    "- Bármely hagyományos karakter, akár önmagában is reguláris kifejezést alkothat\n",
    "- A '.' karakter bármely egyedülálló karakternek megfelelhet. Pl. az \"x.y\"-nak megfelelhet a \"xay\", \"xby\", stb., de a \"xaby\" már NEM.\n",
    "- A szögletes zárójelek [...] olyan szabályt definiálnak, amely alapján az adott elem megfelel a zárójelben levő halmaznak. Pl. a \"x[abc]z\"-nak megfelelhet az \"xaz\", \"xbz\" és az \"xcz\" is. Vagy pl. az \"x[a-z]z\" mintában a középső karakter az ABC bármely betűje lehet. Ilyenkor az intervallumot kötőjellel '-' jelöljük meg.\n",
    "- A '^' jellel módosított szögletes zárójelek [^...] azt jelentik, hogy a reguláris kifejezésben a zárójelben felsoroltakon kívűl minden más szerepelhet. Pl. a \"1[^2-8]2\" kifejezésben a zárójel helyén csak '1' és '9' lehet, mert a \"2-8\" közötti intervallumot kizártuk.\n",
    "- Több reguláris kifejezést csoportosíthatunk zárójelek (...) segítségével. Pl. a \"(ab)c\" szabály az \"ab\" és 'c' reguláris kifejezések csoportosítása.\n",
    "- A reguláris kifejezések ismétlődhetnek. Pl. a \"x&ast;\" megismételheti a 'x'-t nullászor, vagy ennél többször, a \"x+\" megismétli az 'x'-t 1 vagy annál többször, a \"x?\" megismétli 'x'-t 0 vagy 1 alkalommal. Konkrét példa: a \"1(abc)&ast;2\" kifejezésnek megfelelhet a \"12\", \"1abc2\", és akár a \"1abcabcabc2\" is.\n",
    "- Ha valamilyen szabály a sor elején kezdődik, akkor azt \"^\" mintával jelöljük, ha a sor végén található, akkor pedig a \"^&dollar;\" mintával.\n",
    "\n",
    "#### A reguláris kifejezések alkalmazása Pythonban\n",
    "\n",
    "A reguláris kifejezések alkalmazásához be kell szúrnunk a **re** könyvtárat. Nézzünk ezzel kapcsolatban néhány konkrét feladatot:"
   ]
  },
  {
   "cell_type": "code",
   "execution_count": 46,
   "metadata": {},
   "outputs": [
    {
     "name": "stdout",
     "output_type": "stream",
     "text": [
      "Minden szám: ['2019', '12']\n",
      "Minden egyéb: [' ', 'n', 'o', 'v', 'e', 'm', 'b', 'e', 'r', ' ']\n",
      "Angol a-z A-Z: ['november']\n"
     ]
    }
   ],
   "source": [
    "import re\n",
    "szov1 = \"2019 november 12\"\n",
    "print(\"Minden szám:\", re.findall(\"\\d+\", szov1))\n",
    "print(\"Minden egyéb:\", re.findall(\"[^\\d+]\", szov1))\n",
    "print(\"Angol a-z A-Z:\", re.findall(\"[a-zA-Z]+\", szov1))"
   ]
  },
  {
   "cell_type": "code",
   "execution_count": 48,
   "metadata": {},
   "outputs": [
    {
     "name": "stdout",
     "output_type": "stream",
     "text": [
      "['<body>', '<br>', '</body>']\n"
     ]
    }
   ],
   "source": [
    "szov2 = \"<body>Ez egy példa<br></body>\"\n",
    "print(re.findall(\"<.*?>\", szov2))"
   ]
  },
  {
   "cell_type": "code",
   "execution_count": 50,
   "metadata": {},
   "outputs": [
    {
     "name": "stdout",
     "output_type": "stream",
     "text": [
      "s.r     : ['sör', 'sör', 'sár', 'sír']\n",
      "s.r.    : ['sör ', 'sört', 'sár ', 'sír ']\n",
      "s[áí]r  : ['sár', 'sír']\n",
      "P.t.    : ['Peti', 'Pite', 'Pete']\n",
      "P.*t.   : ['Pártol Piros Sanyi Peti Pite Pete']\n",
      "P.{0,3}t.: ['Párto', 'Peti', 'Pite', 'Pete']\n"
     ]
    }
   ],
   "source": [
    "szov3 = \"sör sört sár sír sátor Pártol Piros Sanyi Peti Pite Pete \"\n",
    "print(\"s.r      :\", re.findall(\"s.r\", szov3))\n",
    "print(\"s.r.     :\", re.findall(\"s.r.\", szov3))\n",
    "print(\"s[áí]r   :\", re.findall(\"s[áí]r\", szov3))\n",
    "print(\"P.t.     :\", re.findall(\"P.t.\", szov3))\n",
    "print(\"P.*t.    :\", re.findall(\"P.*t.\", szov3))\n",
    "print(\"P.{0,3}t.:\", re.findall(\"P.{0,3}t.\", szov3))"
   ]
  },
  {
   "cell_type": "markdown",
   "metadata": {},
   "source": [
    "Nézzünk egy összetettebb példát:"
   ]
  },
  {
   "cell_type": "code",
   "execution_count": 52,
   "metadata": {},
   "outputs": [
    {
     "name": "stdout",
     "output_type": "stream",
     "text": [
      "_S\\d+_y\\d+\\.png\n",
      "valami_S015_y001.png\n",
      "valami_S014_y001.png\n",
      "valami_S013_y001.png\n",
      "\n",
      "_S\\d+_y\\d+\\..*\n",
      "valami_S015_y001.png\n",
      "valami_S015_y001.npy\n",
      "valami_S014_y001.png\n",
      "valami_S014_y001.npy\n",
      "valami_S013_y001.png\n",
      "valami_S013_y001.npy\n",
      "_S999999_y999.npy\n"
     ]
    }
   ],
   "source": [
    "fajl_lista = [    \"valami_S015_y001.png\",\n",
    "                  \"valami_S015_y001.npy\",\n",
    "                  \"valami_S014_y001.png\",\n",
    "                  \"valami_S014_y001.npy\",\n",
    "                  \"valami_S013_y001.png\",\n",
    "                  \"valami_S013_y001.npy\",\n",
    "                  \"_S999999_y999.npy\"]\n",
    "\n",
    "r1 = re.compile(r\"_S\\d+_y\\d+\\.png :\")\n",
    "r2 = re.compile(r\"_S\\d+_y\\d+\\..*\")\n",
    "f1 = list(filter(r1.search, fajl_lista))\n",
    "f2 = list(filter(r2.search, fajl_lista))\n",
    "print(\"_S\\d+_y\\d+\\.png :\")\n",
    "for f in f1: print(f)\n",
    "print(\"\"); print(\"_S\\d+_y\\d+\\..*\")\n",
    "for f in f2: print(f)\n"
   ]
  },
  {
   "cell_type": "markdown",
   "metadata": {},
   "source": [
    "További információt a reguláris kifejezésekkel kapcsolatban [ITT](https://www.regular-expressions.info/index.html) találnak."
   ]
  },
  {
   "cell_type": "markdown",
   "metadata": {},
   "source": [
    "## _Used sources_ / Felhasznált források:\n",
    "   - [Shannon Turner: Python lessons repository](https://github.com/shannonturner/python-lessons) MIT license (c) Shannon Turner 2013-2014,\n",
    "   - [Siki Zoltán: Python mogyoróhéjban](http://www.agt.bme.hu/gis/python/python_oktato.pdf) GNU FDL license (c) Siki Zoltán,\n",
    "   - [BME AUT](https://github.com/bmeaut) MIT License Copyright (c) BME AUT 2016-2018,\n",
    "   - [Python Software Foundation documents](https://docs.python.org/3/) Copyright (c), Python Software Foundation, 2001-2018,\n",
    "   - [Regular expressions](https://www.regular-expressions.info/index.html) Copyright (c) 2003-2018 Jan Goyvaerts. All rights reserved."
   ]
  }
 ],
 "metadata": {
  "kernelspec": {
   "display_name": "Python 3",
   "language": "python",
   "name": "python3"
  },
  "language_info": {
   "codemirror_mode": {
    "name": "ipython",
    "version": 3
   },
   "file_extension": ".py",
   "mimetype": "text/x-python",
   "name": "python",
   "nbconvert_exporter": "python",
   "pygments_lexer": "ipython3",
   "version": "3.5.2"
  }
 },
 "nbformat": 4,
 "nbformat_minor": 2
}
