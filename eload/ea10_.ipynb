{
 "cells": [
  {
   "cell_type": "markdown",
   "metadata": {},
   "source": [
    "# OpenCV "
   ]
  },
  {
   "cell_type": "markdown",
   "metadata": {},
   "source": [
    "Az OpenCV egy a számítógépes látás és képfeldolgozás területén elterjedt és népszerű könyvtárcsomag. C/C++ nyelven íródott, de több különféle programozási környezetben is elérhető, többek között Python alatt is."
   ]
  },
  {
   "cell_type": "markdown",
   "metadata": {},
   "source": [
    "Az OpenCV használatához telepíteni kell az OpenCV, NumPy és Matplotlib csomagokat."
   ]
  },
  {
   "cell_type": "markdown",
   "metadata": {},
   "source": [
    "A csomag használatához importálni kell a csomagot."
   ]
  },
  {
   "cell_type": "code",
   "execution_count": 1,
   "metadata": {},
   "outputs": [],
   "source": [
    "import cv2\n",
    "import numpy as np\n",
    "from matplotlib import pyplot as plt"
   ]
  },
  {
   "cell_type": "markdown",
   "metadata": {},
   "source": [
    "# Olvasás, módosítás, megjelenítés, írás"
   ]
  },
  {
   "cell_type": "code",
   "execution_count": 2,
   "metadata": {},
   "outputs": [],
   "source": [
    "img = cv2.imread(\"coffee.jpg\")"
   ]
  },
  {
   "cell_type": "code",
   "execution_count": 3,
   "metadata": {},
   "outputs": [],
   "source": [
    "cv2.imshow(\"Coffee\", img) # Megjeleníti a képet egy új ablakban.\n",
    "cv2.waitKey(0) # Vár egy billentyűleütésre.\n",
    "cv2.destroyAllWindows() # Bezárja az ablakot."
   ]
  },
  {
   "cell_type": "markdown",
   "metadata": {},
   "source": [
    "Az OpenCV használatához azért szükséges a Numpy, mert a képeket Numpy tömb formájában tárolja. Ezt jól szemléltetik a következők is."
   ]
  },
  {
   "cell_type": "code",
   "execution_count": 4,
   "metadata": {},
   "outputs": [
    {
     "data": {
      "text/plain": [
       "array([[[ 75, 171, 224],\n",
       "        [ 69, 158, 209],\n",
       "        [ 29, 105, 154],\n",
       "        ...,\n",
       "        [ 14,  24,  42],\n",
       "        [ 12,  23,  43],\n",
       "        [ 12,  23,  43]],\n",
       "\n",
       "       [[ 68, 162, 215],\n",
       "        [ 58, 147, 198],\n",
       "        [ 17,  90, 140],\n",
       "        ...,\n",
       "        [ 14,  24,  42],\n",
       "        [ 12,  23,  43],\n",
       "        [ 12,  23,  43]],\n",
       "\n",
       "       [[ 66, 158, 211],\n",
       "        [ 55, 139, 191],\n",
       "        [  8,  79, 129],\n",
       "        ...,\n",
       "        [ 14,  23,  43],\n",
       "        [ 12,  23,  43],\n",
       "        [ 12,  23,  43]],\n",
       "\n",
       "       ...,\n",
       "\n",
       "       [[  3,  17,  45],\n",
       "        [  7,  21,  49],\n",
       "        [ 19,  33,  61],\n",
       "        ...,\n",
       "        [  0,   7,  21],\n",
       "        [  0,   3,  19],\n",
       "        [  1,  14,  30]],\n",
       "\n",
       "       [[ 17,  32,  58],\n",
       "        [ 19,  34,  60],\n",
       "        [ 15,  30,  56],\n",
       "        ...,\n",
       "        [ 13,  24,  38],\n",
       "        [ 20,  33,  49],\n",
       "        [ 29,  43,  61]],\n",
       "\n",
       "       [[ 17,  32,  58],\n",
       "        [ 16,  31,  57],\n",
       "        [  2,  17,  43],\n",
       "        ...,\n",
       "        [  0,  11,  25],\n",
       "        [ 17,  30,  46],\n",
       "        [ 26,  40,  58]]], dtype=uint8)"
      ]
     },
     "execution_count": 4,
     "metadata": {},
     "output_type": "execute_result"
    }
   ],
   "source": [
    "img # A kimeneten látható, hogy egy 3 dimenziós Numpy tömbben tárolja a képet."
   ]
  },
  {
   "cell_type": "markdown",
   "metadata": {},
   "source": [
    "A dimenziók mérete megadja a kép magasságát (184), szélességét (274), illetve a színcsatornák számát (3). Ez utóbbi jelen esetben 3, hiszen RGB térben vannak a leképezve a színek."
   ]
  },
  {
   "cell_type": "code",
   "execution_count": 5,
   "metadata": {},
   "outputs": [
    {
     "data": {
      "text/plain": [
       "(184, 274, 3)"
      ]
     },
     "execution_count": 5,
     "metadata": {},
     "output_type": "execute_result"
    }
   ],
   "source": [
    "img.shape"
   ]
  },
  {
   "cell_type": "code",
   "execution_count": 6,
   "metadata": {},
   "outputs": [
    {
     "name": "stdout",
     "output_type": "stream",
     "text": [
      "A vizsgált kép 184 képpont magas és 274 képpont széles. A színcsatornák száma 3.\n"
     ]
    }
   ],
   "source": [
    "print(\"A vizsgált kép \", img.shape[0], \" képpont magas és \",\n",
    "      img.shape[1], \" képpont széles. A színcsatornák száma \", img.shape[2], \".\", sep=\"\")"
   ]
  },
  {
   "cell_type": "markdown",
   "metadata": {},
   "source": [
    "Mivel a kép egy Numpy tömb, a megszokott módon tudjuk tömbként kezelni. Például módosíthatjuk az egyes képpontok értékeit."
   ]
  },
  {
   "cell_type": "code",
   "execution_count": 7,
   "metadata": {},
   "outputs": [],
   "source": [
    "for i in range(0, img.shape[0]):\n",
    "    for j in range(0, img.shape[1]):\n",
    "        img[i, j, 2] = 0 # Minden képpont esetén az utolsó színkomponens (vörös) értékét nullára állítja."
   ]
  },
  {
   "cell_type": "code",
   "execution_count": 8,
   "metadata": {},
   "outputs": [],
   "source": [
    "cv2.imshow(\"Coffee\", img)\n",
    "cv2.waitKey(0)\n",
    "cv2.destroyAllWindows()"
   ]
  },
  {
   "cell_type": "markdown",
   "metadata": {},
   "source": [
    "A képet a következő módon menthetjük a kívánt formátumban."
   ]
  },
  {
   "cell_type": "code",
   "execution_count": 9,
   "metadata": {},
   "outputs": [
    {
     "data": {
      "text/plain": [
       "True"
      ]
     },
     "execution_count": 9,
     "metadata": {},
     "output_type": "execute_result"
    }
   ],
   "source": [
    "cv2.imwrite(\"out0.png\", img)\n",
    "cv2.imwrite(\"out0.jpg\", img)\n",
    "cv2.imwrite(\"out0.bmp\", img)"
   ]
  },
  {
   "cell_type": "markdown",
   "metadata": {},
   "source": [
    "# Színcsatornák (konvertálás, komponensekre bontás)"
   ]
  },
  {
   "cell_type": "markdown",
   "metadata": {},
   "source": [
    "A bemeneti RGB képet szürkeárnyalatos képpé konvertáljuk."
   ]
  },
  {
   "cell_type": "code",
   "execution_count": 10,
   "metadata": {},
   "outputs": [],
   "source": [
    "img = cv2.imread(\"coffee.jpg\")\n",
    "img_gray = cv2.cvtColor(img, cv2.COLOR_BGR2GRAY)"
   ]
  },
  {
   "cell_type": "code",
   "execution_count": 11,
   "metadata": {},
   "outputs": [],
   "source": [
    "cv2.imshow(\"gray\", img_gray)\n",
    "cv2.waitKey(0)\n",
    "cv2.destroyAllWindows()"
   ]
  },
  {
   "cell_type": "markdown",
   "metadata": {},
   "source": [
    "Látható, hogy a kép színcsatornáinak száma háromról egyre változott a konvertálás következtében."
   ]
  },
  {
   "cell_type": "code",
   "execution_count": 12,
   "metadata": {},
   "outputs": [
    {
     "data": {
      "text/plain": [
       "(184, 274, 3)"
      ]
     },
     "execution_count": 12,
     "metadata": {},
     "output_type": "execute_result"
    }
   ],
   "source": [
    "img.shape"
   ]
  },
  {
   "cell_type": "code",
   "execution_count": 13,
   "metadata": {},
   "outputs": [
    {
     "data": {
      "text/plain": [
       "(184, 274)"
      ]
     },
     "execution_count": 13,
     "metadata": {},
     "output_type": "execute_result"
    }
   ],
   "source": [
    "img_gray.shape"
   ]
  },
  {
   "cell_type": "markdown",
   "metadata": {},
   "source": [
    "Lehetőség van színcsatornákra bontani a képet."
   ]
  },
  {
   "cell_type": "code",
   "execution_count": 14,
   "metadata": {},
   "outputs": [],
   "source": [
    "b, g, r = cv2.split(img)"
   ]
  },
  {
   "cell_type": "markdown",
   "metadata": {},
   "source": [
    "De az eddigiek alapján tudjuk, hogy ez például így is működik:"
   ]
  },
  {
   "cell_type": "code",
   "execution_count": 15,
   "metadata": {},
   "outputs": [],
   "source": [
    "b = img[:, :, 0]\n",
    "g = img[:, :, 1]\n",
    "r = img[:, :, 2]"
   ]
  },
  {
   "cell_type": "markdown",
   "metadata": {},
   "source": [
    "A három színcsatorna intenzitásának megjelenítése szürkeárnyalatos képként."
   ]
  },
  {
   "cell_type": "code",
   "execution_count": 16,
   "metadata": {},
   "outputs": [],
   "source": [
    "cv2.imshow(\"rgb\", img)\n",
    "cv2.imshow(\"b\", b)\n",
    "cv2.imshow(\"g\", g)\n",
    "cv2.imshow(\"r\", r)\n",
    "cv2.waitKey(0)\n",
    "cv2.destroyAllWindows()"
   ]
  },
  {
   "cell_type": "markdown",
   "metadata": {},
   "source": [
    "Az értékek megjelenítése az RGB térben:"
   ]
  },
  {
   "cell_type": "code",
   "execution_count": 17,
   "metadata": {},
   "outputs": [],
   "source": [
    "zeros = np.zeros(img.shape[:2], dtype=\"uint8\")\n",
    "\n",
    "cv2.imshow(\"rgb\", img)\n",
    "cv2.imshow(\"b\", cv2.merge([b, zeros, zeros]))\n",
    "cv2.imshow(\"g\", cv2.merge([zeros, g, zeros]))\n",
    "cv2.imshow(\"r\", cv2.merge([zeros, zeros, r]))\n",
    "cv2.waitKey(0)\n",
    "cv2.destroyAllWindows()"
   ]
  },
  {
   "cell_type": "markdown",
   "metadata": {},
   "source": [
    "# Hisztogram"
   ]
  },
  {
   "cell_type": "code",
   "execution_count": 18,
   "metadata": {},
   "outputs": [
    {
     "data": {
      "image/png": "[encoded data removed]",
      "text/plain": [
       "<Figure size 432x288 with 1 Axes>"
      ]
     },
     "metadata": {
      "needs_background": "light"
     },
     "output_type": "display_data"
    }
   ],
   "source": [
    "histogram2 = cv2.calcHist([img], [0], None, [256], [0, 256])\n",
    "plt.plot(histogram2, color=\"b\")\n",
    "histogram2 = cv2.calcHist([img], [1], None, [256], [0, 256])\n",
    "plt.plot(histogram2, color=\"g\")\n",
    "histogram2 = cv2.calcHist([img], [2], None, [256], [0, 256])\n",
    "plt.plot(histogram2, color=\"r\")\n",
    "plt.show()"
   ]
  },
  {
   "cell_type": "markdown",
   "metadata": {},
   "source": [
    "# Élkiemelés"
   ]
  },
  {
   "cell_type": "code",
   "execution_count": 19,
   "metadata": {},
   "outputs": [],
   "source": [
    "kernel0 = np.array([[-1,-2,-1], \n",
    "                    [0,0,-0], \n",
    "                    [1,2,1]])\n",
    "\n",
    "filtered_img0 = cv2.filter2D(img, -1, kernel0)\n",
    "\n",
    "kernel1 = np.array([[1,0,-1], \n",
    "                    [2,0,-2], \n",
    "                    [1,0,-1]])\n",
    "\n",
    "filtered_img1 = cv2.filter2D(img, -1, kernel1)\n",
    "\n",
    "#filtered_img_sum = (filtered_img0 + filtered_img1)\n",
    "filtered_img_sum = cv2.add(filtered_img0, filtered_img1)"
   ]
  },
  {
   "cell_type": "code",
   "execution_count": 20,
   "metadata": {},
   "outputs": [],
   "source": [
    "cv2.imshow(\"filtered_img0\", filtered_img0)\n",
    "cv2.imshow(\"filtered_img1\", filtered_img1)\n",
    "cv2.imshow(\"filtered_img_sum\", filtered_img_sum)\n",
    "cv2.waitKey(0)\n",
    "cv2.destroyAllWindows()"
   ]
  },
  {
   "cell_type": "code",
   "execution_count": 21,
   "metadata": {},
   "outputs": [],
   "source": [
    "filtered_img_sum_gray = cv2.cvtColor(filtered_img_sum, cv2.COLOR_BGR2GRAY)\n",
    "\n",
    "cv2.imshow(\"filtered_img_sum_gray\", filtered_img_sum_gray)\n",
    "cv2.waitKey(0)\n",
    "cv2.destroyAllWindows()"
   ]
  },
  {
   "cell_type": "markdown",
   "metadata": {},
   "source": [
    "# Élesítés"
   ]
  },
  {
   "cell_type": "code",
   "execution_count": 22,
   "metadata": {},
   "outputs": [],
   "source": [
    "kernel = np.array([[-1,-1,-1], \n",
    "                    [-1,9,-1], \n",
    "                    [-1,-1,-1]])\n",
    "\n",
    "filtered_img2 = cv2.filter2D(img, -1, kernel)\n",
    "\n",
    "cv2.imshow(\"img\", img)\n",
    "cv2.imshow(\"filtered_img2\", filtered_img2)\n",
    "cv2.waitKey(0)\n",
    "cv2.destroyAllWindows()"
   ]
  },
  {
   "cell_type": "markdown",
   "metadata": {},
   "source": [
    "# Küszöbölés"
   ]
  },
  {
   "cell_type": "code",
   "execution_count": 23,
   "metadata": {},
   "outputs": [],
   "source": [
    "# Megnyitás szürkeárnyalati konverzióval\n",
    "img = cv2.imread(\"coffee.jpg\", 0)\n",
    "cv2.imshow(\"Img\", img)\n",
    "\n",
    "# Aminek az intenzitása 127 alatti, az 0 intezitást vesz fel, minden más intenzitása 255 lesz.\n",
    "ret, thresh1 = cv2.threshold(img, 127, 255, cv2.THRESH_BINARY)\n",
    "cv2.imshow(\"Threshold Binary\", thresh1)\n",
    "\n",
    "# Az előző inverze.\n",
    "ret, thresh2 = cv2.threshold(img, 127, 255, cv2.THRESH_BINARY_INV)\n",
    "cv2.imshow(\"Threshold Binary Inverse\", thresh2)\n",
    "\n",
    "# Ahol az intenzitás 127 feletti, ott 127 lesz az új intenzitás.\n",
    "ret, thresh3 = cv2.threshold(img, 127, 255, cv2.THRESH_TRUNC)\n",
    "cv2.imshow(\"THRESH TRUNC\", thresh3)\n",
    "\n",
    "# Ahol az intenzitás 127 alatti, ott 0 lesz az új intenzitás.\n",
    "ret, thresh4 = cv2.threshold(img, 127, 255, cv2.THRESH_TOZERO)\n",
    "cv2.imshow(\"THRESH TOZERO\", thresh4)\n",
    "\n",
    "# Az előző inverze.\n",
    "ret, thresh5 = cv2.threshold(img, 127, 255, cv2.THRESH_TOZERO_INV)\n",
    "cv2.imshow(\"THRESH TOZERO INV\", thresh5)\n",
    "cv2.waitKey(0) \n",
    "    \n",
    "cv2.destroyAllWindows()"
   ]
  },
  {
   "cell_type": "markdown",
   "metadata": {},
   "source": [
    "# Morfológiai operátorok (Erózió, dilatáció, nyitás és zárás)"
   ]
  },
  {
   "cell_type": "code",
   "execution_count": 24,
   "metadata": {},
   "outputs": [],
   "source": [
    "image = cv2.imread('abc.png', 0)\n",
    "\n",
    "cv2.imshow('Original', image)\n",
    "cv2.waitKey(0)\n",
    "\n",
    "# Morfológiai szűrő\n",
    "kernel = np.ones((5,5), np.uint8)\n",
    "\n",
    "# Erózió\n",
    "erosion = cv2.erode(image, kernel, iterations = 1)\n",
    "cv2.imshow('Erosion', erosion)\n",
    "cv2.waitKey(0)\n",
    "\n",
    "# Dilatáció\n",
    "dilation = cv2.dilate(image, kernel, iterations = 1)\n",
    "cv2.imshow('Dilation', dilation)\n",
    "cv2.waitKey(0)\n",
    "\n",
    "# Nyitás\n",
    "opening = cv2.morphologyEx(image, cv2.MORPH_OPEN, kernel)\n",
    "cv2.imshow('Opening', opening)\n",
    "cv2.waitKey(0)\n",
    "\n",
    "# Zárás\n",
    "closing = cv2.morphologyEx(image, cv2.MORPH_CLOSE, kernel)\n",
    "cv2.imshow('Closing', closing)\n",
    "cv2.waitKey(0)\n",
    "\n",
    "\n",
    "cv2.destroyAllWindows()"
   ]
  },
  {
   "cell_type": "markdown",
   "metadata": {},
   "source": [
    "# Képek összeadása és kivonása"
   ]
  },
  {
   "cell_type": "code",
   "execution_count": 25,
   "metadata": {},
   "outputs": [],
   "source": [
    "img = cv2.imread('coffee.jpg')\n",
    "\n",
    "# Az M mátrix mérete megegyezik a bemeneti kép méretével. Minden intenzitása 175. Végeredményben M is egy képnek tekinthető.\n",
    "M = np.ones(img.shape, dtype = \"uint8\") * 175 \n",
    "\n",
    "# M mátrix és a kép összege.\n",
    "added = cv2.add(img, M)\n",
    "cv2.imshow(\"Added\", added)\n",
    "\n",
    "# M mátrix és a kép különbsége.\n",
    "subtracted = cv2.subtract(img, M)\n",
    "cv2.imshow(\"Subtracted\", subtracted)\n",
    "\n",
    "cv2.waitKey(0)\n",
    "cv2.destroyAllWindows()"
   ]
  },
  {
   "cell_type": "code",
   "execution_count": null,
   "metadata": {},
   "outputs": [],
   "source": []
  }
 ],
 "metadata": {
  "kernelspec": {
   "display_name": "Python 3",
   "language": "python",
   "name": "python3"
  },
  "language_info": {
   "codemirror_mode": {
    "name": "ipython",
    "version": 3
   },
   "file_extension": ".py",
   "mimetype": "text/x-python",
   "name": "python",
   "nbconvert_exporter": "python",
   "pygments_lexer": "ipython3",
   "version": "3.7.0"
  }
 },
 "nbformat": 4,
 "nbformat_minor": 2
}
