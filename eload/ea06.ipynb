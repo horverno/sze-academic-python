{
 "cells": [
  {
   "cell_type": "markdown",
   "metadata": {},
   "source": [
    "# 6. előadás\n",
    "_Tartalom_: Dict, tuple, kivételkezelés (try / except)"
   ]
  },
  {
   "cell_type": "markdown",
   "metadata": {},
   "source": [
    "### A tuple"
   ]
  },
  {
   "cell_type": "markdown",
   "metadata": {},
   "source": [
    "Eddig ha egy objektumban több más objektum felsorolását akartuk tárolni, akkor listákat használtunk:"
   ]
  },
  {
   "cell_type": "code",
   "execution_count": 1,
   "metadata": {},
   "outputs": [
    {
     "data": {
      "text/plain": [
       "[1, 2, 3, 4]"
      ]
     },
     "execution_count": 1,
     "metadata": {},
     "output_type": "execute_result"
    }
   ],
   "source": [
    "[1, 2, 3, 4]"
   ]
  },
  {
   "cell_type": "code",
   "execution_count": 2,
   "metadata": {},
   "outputs": [
    {
     "data": {
      "text/plain": [
       "['Bill', 'Charlie', 'Percy']"
      ]
     },
     "execution_count": 2,
     "metadata": {},
     "output_type": "execute_result"
    }
   ],
   "source": [
    "[\"Bill\", \"Charlie\", \"Percy\"]"
   ]
  },
  {
   "cell_type": "markdown",
   "metadata": {},
   "source": [
    "Általában akkor szokás a lista típust használni, ha az adatunk valóban lista-szerű: nem fontos, hogy pontosan hány eleme van, és egy-egy elem funkcióját nem az határozza meg, hogy ő hányadik a listában. Ilyen volt a filmes táblázatunk."
   ]
  },
  {
   "cell_type": "code",
   "execution_count": 3,
   "metadata": {},
   "outputs": [],
   "source": [
    "import os\n",
    "film_fajl = os.path.join(\"data\", \"movies.tsv\")\n",
    "filmek = [line.strip().split('\\t') for line in open(film_fajl)]"
   ]
  },
  {
   "cell_type": "code",
   "execution_count": 4,
   "metadata": {},
   "outputs": [
    {
     "data": {
      "text/plain": [
       "[['Toy Story ', '1995', 'animation,children,comedy'],\n",
       " ['GoldenEye ', '1995', 'action,adventure,thriller'],\n",
       " ['Four Rooms ', '1995', 'thriller']]"
      ]
     },
     "execution_count": 4,
     "metadata": {},
     "output_type": "execute_result"
    }
   ],
   "source": [
    "filmek[:3]"
   ]
  },
  {
   "cell_type": "markdown",
   "metadata": {},
   "source": [
    "Amikor azonban egy ilyen felsorolásnak van egy kötött _szerkezete_, mint például a filmes táblázat egyes sorainál, ahol fontos, hogy a felsorolás pontosan 3 hosszúságú, és minden pozíciónak szerepe van, akkor a lista helyett egy másik típust szoktunk használni, a __tuple__-t, vagy más néven rendezett n-es véges listát:"
   ]
  },
  {
   "cell_type": "code",
   "execution_count": 5,
   "metadata": {},
   "outputs": [
    {
     "data": {
      "text/plain": [
       "['Toy Story ', '1995', 'animation,children,comedy']"
      ]
     },
     "execution_count": 5,
     "metadata": {},
     "output_type": "execute_result"
    }
   ],
   "source": [
    "filmek[0]"
   ]
  },
  {
   "cell_type": "code",
   "execution_count": 6,
   "metadata": {},
   "outputs": [
    {
     "data": {
      "text/plain": [
       "('Toy Story ', '1995', 'animation,children,comedy')"
      ]
     },
     "execution_count": 6,
     "metadata": {},
     "output_type": "execute_result"
    }
   ],
   "source": [
    "tuple(filmek[0])"
   ]
  },
  {
   "cell_type": "code",
   "execution_count": 7,
   "metadata": {},
   "outputs": [
    {
     "data": {
      "text/plain": [
       "['p', 'i', 'n', 'g', 'v', 'i', 'n']"
      ]
     },
     "execution_count": 7,
     "metadata": {},
     "output_type": "execute_result"
    }
   ],
   "source": [
    "list(\"pingvin\")"
   ]
  },
  {
   "cell_type": "markdown",
   "metadata": {},
   "source": [
    "A tuple elemeit sima kerek zárójelek közé írjuk. Egy-egy elemét ugyanúgy tudjuk lekérdezni, mint egy listáét:"
   ]
  },
  {
   "cell_type": "code",
   "execution_count": 8,
   "metadata": {
    "collapsed": true
   },
   "outputs": [],
   "source": [
    "film = tuple(filmek[0])"
   ]
  },
  {
   "cell_type": "code",
   "execution_count": 9,
   "metadata": {},
   "outputs": [
    {
     "data": {
      "text/plain": [
       "('Toy Story ', '1995', 'animation,children,comedy')"
      ]
     },
     "execution_count": 9,
     "metadata": {},
     "output_type": "execute_result"
    }
   ],
   "source": [
    "film"
   ]
  },
  {
   "cell_type": "code",
   "execution_count": 10,
   "metadata": {},
   "outputs": [
    {
     "data": {
      "text/plain": [
       "'Toy Story '"
      ]
     },
     "execution_count": 10,
     "metadata": {},
     "output_type": "execute_result"
    }
   ],
   "source": [
    "film[0]"
   ]
  },
  {
   "cell_type": "markdown",
   "metadata": {},
   "source": [
    "Viszont egy tuple-höz nem fűzhetünk hozzá újabb elemet:"
   ]
  },
  {
   "cell_type": "markdown",
   "metadata": {},
   "source": [
    "`film.append(\"x\")`\n",
    "\n",
    "``` python\n",
    "AttributeError: 'tuple' object has no attribute 'append'\n",
    "```"
   ]
  },
  {
   "cell_type": "markdown",
   "metadata": {},
   "source": [
    "És nem változtathatjuk meg 1-1 elemét:"
   ]
  },
  {
   "cell_type": "markdown",
   "metadata": {},
   "source": [
    "`film[1] = \"1994\"`\n",
    "\n",
    "``` python \n",
    "TypeError: 'tuple' object does not support item assignment\n",
    "```    "
   ]
  },
  {
   "cell_type": "markdown",
   "metadata": {},
   "source": [
    "Cserébe több előnye is van a tuple-öknek a listákkal szemben, _ezek egy részéről még fogunk tanulni_, de egyelőre annyi elég, hogy \"tisztább helyzetet\" teremt a kódunkban: ha egy felsorolásunknak fix szerkezete van, ha nem dolga, hogy változzon a hosszúsága vagy hogy változzanak az elemei, akkor tuple-ban tároljuk, így nem fogjuk még tévedésből sem \"elrontani\" a benne lévő adatot:"
   ]
  },
  {
   "cell_type": "code",
   "execution_count": 11,
   "metadata": {
    "collapsed": true
   },
   "outputs": [],
   "source": [
    "filmek = [tuple(film) for film in filmek]"
   ]
  },
  {
   "cell_type": "code",
   "execution_count": 12,
   "metadata": {},
   "outputs": [
    {
     "data": {
      "text/plain": [
       "[('Toy Story ', '1995', 'animation,children,comedy'),\n",
       " ('GoldenEye ', '1995', 'action,adventure,thriller'),\n",
       " ('Four Rooms ', '1995', 'thriller')]"
      ]
     },
     "execution_count": 12,
     "metadata": {},
     "output_type": "execute_result"
    }
   ],
   "source": [
    "filmek[:3]"
   ]
  },
  {
   "cell_type": "markdown",
   "metadata": {},
   "source": [
    "\n",
    "\n",
    "\n"
   ]
  },
  {
   "cell_type": "markdown",
   "metadata": {},
   "source": [
    "### A dictionary"
   ]
  },
  {
   "cell_type": "markdown",
   "metadata": {},
   "source": [
    "Az eddig megismert típusok (int, float, string, lista, tuple) számokat vagy szövegeket illetve ezek felsorolásait tárolta. Most egy olyan típust ismerünk meg, ami egy _leképezést_ vagy _megfeleltetést_ tárol különböző objektumok párjai között, ez a típus a __dictionary__ (magyarul: szótár)."
   ]
  },
  {
   "cell_type": "markdown",
   "metadata": {},
   "source": [
    "Nevével ellentétben a dictionary nem definíciókat tárol, hanem egyszerűen a benne tárolt objektumok mindegyikét hozzákapcsolja valamilyen másik objektumhoz. Az alábbi dictionary például neveket tárol, és mindegyikhez rendel egy-egy számot, ami lehet például az adott nevű ember életkora:"
   ]
  },
  {
   "cell_type": "code",
   "execution_count": 13,
   "metadata": {
    "collapsed": true
   },
   "outputs": [],
   "source": [
    "weasleyk = {\"Bill\": 21, \"Charlie\": 19, \"Percy\": 15, \"Fred\": 13, \"George\": 13, \"Ron\": 11, \"Ginny\": 10}"
   ]
  },
  {
   "cell_type": "markdown",
   "metadata": {},
   "source": [
    "A dictionary-k elemeit kapcsos zárójelek között ({}) soroljuk fel, a felsorolt párok két felét pedig, amelyeket __kulcsnak__ ill. __értéknek__ hívunk, kettősponttal választjuk el egymástól."
   ]
  },
  {
   "cell_type": "markdown",
   "metadata": {},
   "source": [
    "A dictionary-k legfontosabb funkciója, hogy bármelyik kulcshoz lekérhetjük a hozzátartozó értéket, méghozzá úgy, hogy a dictionary után szögletes zárójelbe írjuk a kulcsot:"
   ]
  },
  {
   "cell_type": "code",
   "execution_count": 14,
   "metadata": {},
   "outputs": [
    {
     "data": {
      "text/plain": [
       "19"
      ]
     },
     "execution_count": 14,
     "metadata": {},
     "output_type": "execute_result"
    }
   ],
   "source": [
    "weasleyk[\"Charlie\"]"
   ]
  },
  {
   "cell_type": "code",
   "execution_count": 15,
   "metadata": {},
   "outputs": [
    {
     "data": {
      "text/plain": [
       "11"
      ]
     },
     "execution_count": 15,
     "metadata": {},
     "output_type": "execute_result"
    }
   ],
   "source": [
    "weasleyk[\"Ron\"]"
   ]
  },
  {
   "cell_type": "markdown",
   "metadata": {},
   "source": [
    "Ha olyan kulcsot keresünk a dictionary-ben, ami nem szerepel benne, hibát kapunk:"
   ]
  },
  {
   "cell_type": "markdown",
   "metadata": {},
   "source": [
    "`weasleyk[\"Arthur\"]`\n",
    "``` python\n",
    "KeyError: 'Arthur'\n",
    "```"
   ]
  },
  {
   "cell_type": "markdown",
   "metadata": {},
   "source": [
    "Hogy egy adott kulcs szerepel-e egy dictionary-ben, ugyanúgy tudjuk ellenőrizni, mint listák esetében:"
   ]
  },
  {
   "cell_type": "code",
   "execution_count": 16,
   "metadata": {},
   "outputs": [
    {
     "data": {
      "text/plain": [
       "False"
      ]
     },
     "execution_count": 16,
     "metadata": {},
     "output_type": "execute_result"
    }
   ],
   "source": [
    "\"Arthur\" in weasleyk"
   ]
  },
  {
   "cell_type": "markdown",
   "metadata": {},
   "source": [
    "Új párokat így adhatunk hozzá a dictionary-hez:"
   ]
  },
  {
   "cell_type": "code",
   "execution_count": 17,
   "metadata": {
    "collapsed": true
   },
   "outputs": [],
   "source": [
    "weasleyk[\"Arthur\"] = 41"
   ]
  },
  {
   "cell_type": "markdown",
   "metadata": {},
   "source": [
    "És hasonlóképp tudjuk módosítani az egy már létező kulcshoz tartozó értéket:"
   ]
  },
  {
   "cell_type": "code",
   "execution_count": 18,
   "metadata": {
    "collapsed": true
   },
   "outputs": [],
   "source": [
    "weasleyk[\"Arthur\"] = 42"
   ]
  },
  {
   "cell_type": "markdown",
   "metadata": {},
   "source": [
    "Ha _for_ ciklussal megyünk végig egy dictionary elemein, akkor a kulcsain megyünk végig. Az alábbi ciklus például minden Weasley-t egy évvel \"öregít\":"
   ]
  },
  {
   "cell_type": "code",
   "execution_count": 19,
   "metadata": {},
   "outputs": [],
   "source": [
    "for nev in weasleyk:\n",
    "    weasleyk[nev] += 1"
   ]
  },
  {
   "cell_type": "code",
   "execution_count": 20,
   "metadata": {},
   "outputs": [
    {
     "data": {
      "text/plain": [
       "{'Arthur': 43,\n",
       " 'Bill': 22,\n",
       " 'Charlie': 20,\n",
       " 'Fred': 14,\n",
       " 'George': 14,\n",
       " 'Ginny': 11,\n",
       " 'Percy': 16,\n",
       " 'Ron': 12}"
      ]
     },
     "execution_count": 20,
     "metadata": {},
     "output_type": "execute_result"
    }
   ],
   "source": [
    "weasleyk"
   ]
  },
  {
   "cell_type": "markdown",
   "metadata": {},
   "source": [
    "Ha szükségünk van rá, egy dictionary összes kulcsát, összes értékét, vagy összes kulcs-érték párját is lekérhetjük:"
   ]
  },
  {
   "cell_type": "code",
   "execution_count": 21,
   "metadata": {},
   "outputs": [
    {
     "data": {
      "text/plain": [
       "['Charlie', 'Percy', 'Ron', 'Bill', 'Ginny', 'George', 'Fred', 'Arthur']"
      ]
     },
     "execution_count": 21,
     "metadata": {},
     "output_type": "execute_result"
    }
   ],
   "source": [
    "list(weasleyk.keys())"
   ]
  },
  {
   "cell_type": "code",
   "execution_count": 22,
   "metadata": {},
   "outputs": [
    {
     "data": {
      "text/plain": [
       "dict_values([20, 16, 12, 22, 11, 14, 14, 43])"
      ]
     },
     "execution_count": 22,
     "metadata": {},
     "output_type": "execute_result"
    }
   ],
   "source": [
    "weasleyk.values()"
   ]
  },
  {
   "cell_type": "code",
   "execution_count": 23,
   "metadata": {},
   "outputs": [
    {
     "data": {
      "text/plain": [
       "[('Charlie', 20),\n",
       " ('Percy', 16),\n",
       " ('Ron', 12),\n",
       " ('Bill', 22),\n",
       " ('Ginny', 11),\n",
       " ('George', 14),\n",
       " ('Fred', 14),\n",
       " ('Arthur', 43)]"
      ]
     },
     "execution_count": 23,
     "metadata": {},
     "output_type": "execute_result"
    }
   ],
   "source": [
    "list(weasleyk.items())"
   ]
  },
  {
   "cell_type": "markdown",
   "metadata": {},
   "source": [
    "Ezek a típusok nem listák, hanem annál \"okosabb\" típusok, de egyrészt bármikor listává tudjuk őket alakítani:"
   ]
  },
  {
   "cell_type": "code",
   "execution_count": 24,
   "metadata": {},
   "outputs": [
    {
     "data": {
      "text/plain": [
       "['Charlie', 'Percy', 'Ron', 'Bill', 'Ginny', 'George', 'Fred', 'Arthur']"
      ]
     },
     "execution_count": 24,
     "metadata": {},
     "output_type": "execute_result"
    }
   ],
   "source": [
    "list(weasleyk.keys())"
   ]
  },
  {
   "cell_type": "markdown",
   "metadata": {},
   "source": [
    "Másrészt egy for ciklussal végig tudunk menni az elemein:"
   ]
  },
  {
   "cell_type": "code",
   "execution_count": 25,
   "metadata": {},
   "outputs": [
    {
     "name": "stdout",
     "output_type": "stream",
     "text": [
      "20\n",
      "16\n",
      "12\n",
      "22\n",
      "11\n",
      "14\n",
      "14\n",
      "43\n"
     ]
    }
   ],
   "source": [
    "for eletkor in weasleyk.values():\n",
    "    print(eletkor)"
   ]
  },
  {
   "cell_type": "markdown",
   "metadata": {},
   "source": [
    "Az _items_ által létrehozott listák elemei tuple-ök:"
   ]
  },
  {
   "cell_type": "code",
   "execution_count": 26,
   "metadata": {},
   "outputs": [
    {
     "data": {
      "text/plain": [
       "('Bill', 22)"
      ]
     },
     "execution_count": 26,
     "metadata": {},
     "output_type": "execute_result"
    }
   ],
   "source": [
    "list(weasleyk.items())[3]"
   ]
  },
  {
   "cell_type": "markdown",
   "metadata": {},
   "source": [
    "**Fontos:** A dictionary-k elemeinek nincsen sorrendjük! Amikor egy for cilussal bejárjuk az elemeit, egy véletlenszerű sorrendben fogjuk egymásután kapni a kulcsokat."
   ]
  },
  {
   "cell_type": "markdown",
   "metadata": {},
   "source": [
    "Az értékek bármilyen olbjektumok lehetnek, a kulcsok viszont nem. Az általunk már ismert típusok közül a listák nem lehetnek kulcsok:"
   ]
  },
  {
   "cell_type": "code",
   "execution_count": 27,
   "metadata": {
    "collapsed": true
   },
   "outputs": [],
   "source": [
    "d = {}"
   ]
  },
  {
   "cell_type": "code",
   "execution_count": 28,
   "metadata": {},
   "outputs": [],
   "source": [
    "# d[[1,2]] = 3"
   ]
  },
  {
   "cell_type": "markdown",
   "metadata": {},
   "source": [
    "Lehetnek viszont tuple-ök:"
   ]
  },
  {
   "cell_type": "code",
   "execution_count": 29,
   "metadata": {
    "collapsed": true
   },
   "outputs": [],
   "source": [
    "d[(1,2)] = 3"
   ]
  },
  {
   "cell_type": "code",
   "execution_count": 30,
   "metadata": {},
   "outputs": [
    {
     "data": {
      "text/plain": [
       "{(1, 2): 3}"
      ]
     },
     "execution_count": 30,
     "metadata": {},
     "output_type": "execute_result"
    }
   ],
   "source": [
    "d"
   ]
  },
  {
   "cell_type": "markdown",
   "metadata": {},
   "source": [
    "Egy kulcshoz tartozó érték lehet akár egy újabb dictionary, így már összetettebb adatot is tárolhatunk egy-egy objektumban:"
   ]
  },
  {
   "cell_type": "code",
   "execution_count": 31,
   "metadata": {
    "collapsed": true
   },
   "outputs": [],
   "source": [
    "hallgato = {\"vezetéknév\": \"Róbert\",\n",
    "            \"keresztnév\": \"Gida\",\n",
    "            \"felhasználónév\": \"robertgida\",\n",
    "            \"születésnap\": (1920, 8, 21),\n",
    "            \"kedvenc\": {\"étel\": \"rakott krumpli\",\n",
    "                        \"állat\": \"medve\",\n",
    "                        \"szín\": \"kék\",\n",
    "                        \"zene\": \"Halász Judit\"},\n",
    "            \"hobbik\": [\"fáramászás\", \"színezés\", \"sütievés\"]}"
   ]
  },
  {
   "cell_type": "code",
   "execution_count": 32,
   "metadata": {},
   "outputs": [
    {
     "data": {
      "text/plain": [
       "'rakott krumpli'"
      ]
     },
     "execution_count": 32,
     "metadata": {},
     "output_type": "execute_result"
    }
   ],
   "source": [
    "hallgato[\"kedvenc\"][\"étel\"]"
   ]
  },
  {
   "cell_type": "markdown",
   "metadata": {},
   "source": [
    "Készítsük el a filmes adatunk egy ilyen reprezentációját:"
   ]
  },
  {
   "cell_type": "code",
   "execution_count": 33,
   "metadata": {
    "collapsed": true
   },
   "outputs": [],
   "source": [
    "cim_szerint = {}\n",
    "for film in filmek:\n",
    "    cim = film[0].strip()\n",
    "    ev = int(film[1])\n",
    "    mufajok = film[2].split(',')\n",
    "    cim_szerint[cim] = {\"ev\": ev, \"mufajok\": mufajok}"
   ]
  },
  {
   "cell_type": "markdown",
   "metadata": {},
   "source": [
    "Most olyan dictionary-ben tároljuk az adatot, aminek a kulcsai a filmcímek, így nagyon könnyű cím alapján lekérni egy-egy filmet:"
   ]
  },
  {
   "cell_type": "code",
   "execution_count": 34,
   "metadata": {},
   "outputs": [
    {
     "data": {
      "text/plain": [
       "{'ev': 1988, 'mufajok': ['action', 'thriller']}"
      ]
     },
     "execution_count": 34,
     "metadata": {},
     "output_type": "execute_result"
    }
   ],
   "source": [
    "cim_szerint[\"Die Hard\"]"
   ]
  },
  {
   "cell_type": "code",
   "execution_count": 35,
   "metadata": {},
   "outputs": [
    {
     "data": {
      "text/plain": [
       "{'ev': 1995, 'mufajok': ['animation', 'children', 'comedy']}"
      ]
     },
     "execution_count": 35,
     "metadata": {},
     "output_type": "execute_result"
    }
   ],
   "source": [
    "cim_szerint[\"Toy Story\"]"
   ]
  },
  {
   "cell_type": "markdown",
   "metadata": {},
   "source": [
    "De ugyanígy elkészíthetnénk azt a dictionary-t is, ami az évekhez rendel filmeket, ekkor persze egy-egy évhez egy egész lista tartozna:"
   ]
  },
  {
   "cell_type": "code",
   "execution_count": 36,
   "metadata": {
    "collapsed": true
   },
   "outputs": [],
   "source": [
    "ev_szerint = {}\n",
    "for film in filmek:\n",
    "    cim = film[0].strip()\n",
    "    ev = int(film[1])\n",
    "    mufajok = film[2].split(',')\n",
    "    if ev not in ev_szerint:\n",
    "        ev_szerint[ev] = []\n",
    "    ev_szerint[ev].append({\"cim\": cim, \"mufajok\": mufajok})"
   ]
  },
  {
   "cell_type": "code",
   "execution_count": 37,
   "metadata": {},
   "outputs": [
    {
     "data": {
      "text/plain": [
       "[{'cim': 'Platoon', 'mufajok': ['drama', 'war']},\n",
       " {'cim': 'Top Gun', 'mufajok': ['action', 'romance']},\n",
       " {'cim': 'Jean de Florette', 'mufajok': ['drama']},\n",
       " {'cim': 'Manon of the Spring', 'mufajok': ['drama']},\n",
       " {'cim': 'Aliens', 'mufajok': ['action', 'sci_fi', 'thriller', 'war']},\n",
       " {'cim': 'Room with a View, A', 'mufajok': ['drama', 'romance']},\n",
       " {'cim': 'Star Trek IV: The Voyage Home',\n",
       "  'mufajok': ['action', 'adventure', 'sci_fi']},\n",
       " {'cim': 'Transformers: The Movie, The',\n",
       "  'mufajok': ['action', 'animation', 'children', 'sci_fi', 'thriller', 'war']},\n",
       " {'cim': 'Highlander', 'mufajok': ['action', 'adventure']},\n",
       " {'cim': 'Down by Law', 'mufajok': ['comedy', 'drama']},\n",
       " {'cim': 'Stand by Me', 'mufajok': ['adventure', 'comedy', 'drama']},\n",
       " {'cim': \"April Fool's Day\", 'mufajok': ['comedy', 'horror']},\n",
       " {'cim': 'Nosferatu a Venezia', 'mufajok': ['horror']},\n",
       " {'cim': 'Invitation, The', 'mufajok': ['drama']},\n",
       " {'cim': 'Two Friends', 'mufajok': ['drama']}]"
      ]
     },
     "execution_count": 37,
     "metadata": {},
     "output_type": "execute_result"
    }
   ],
   "source": [
    "ev_szerint[1986]"
   ]
  },
  {
   "cell_type": "markdown",
   "metadata": {},
   "source": [
    "Hogy milyen szerkezetű adatot építünk, az attól függ, hogyan akarjuk majd használni. Ha például szeretnénk tudni műfaj alapján szűkíteni és utána adott évre is keresni, akkor eszerint kell felépítenünk az adatunkat:"
   ]
  },
  {
   "cell_type": "code",
   "execution_count": 38,
   "metadata": {
    "collapsed": true
   },
   "outputs": [],
   "source": [
    "mufaj_ev_szerint = {}\n",
    "for film in filmek:\n",
    "    cim = film[0].strip()\n",
    "    ev = int(film[1])\n",
    "    mufajok = film[2].split(',')\n",
    "    for mufaj in mufajok:\n",
    "        if mufaj not in mufaj_ev_szerint:\n",
    "            mufaj_ev_szerint[mufaj] = {}\n",
    "        if ev not in mufaj_ev_szerint[mufaj]:\n",
    "            mufaj_ev_szerint[mufaj][ev] = []\n",
    "        mufaj_ev_szerint[mufaj][ev].append(cim)"
   ]
  },
  {
   "cell_type": "markdown",
   "metadata": {},
   "source": [
    "Ekkor az 1986-os akciófilmeket így tudom kilistázni:"
   ]
  },
  {
   "cell_type": "code",
   "execution_count": 39,
   "metadata": {},
   "outputs": [
    {
     "data": {
      "text/plain": [
       "['Top Gun',\n",
       " 'Aliens',\n",
       " 'Star Trek IV: The Voyage Home',\n",
       " 'Transformers: The Movie, The',\n",
       " 'Highlander']"
      ]
     },
     "execution_count": 39,
     "metadata": {},
     "output_type": "execute_result"
    }
   ],
   "source": [
    "mufaj_ev_szerint[\"action\"][1986]"
   ]
  },
  {
   "cell_type": "markdown",
   "metadata": {},
   "source": [
    "Az 1998-as drámákat pedig így:"
   ]
  },
  {
   "cell_type": "code",
   "execution_count": 40,
   "metadata": {},
   "outputs": [
    {
     "data": {
      "text/plain": [
       "['Apt Pupil',\n",
       " 'Desperate Measures',\n",
       " 'Wag the Dog',\n",
       " 'Desperate Measures',\n",
       " 'Great Expectations',\n",
       " 'Dangerous Beauty',\n",
       " 'Nil By Mouth',\n",
       " 'Twilight',\n",
       " 'Wild Things',\n",
       " 'Primary Colors',\n",
       " 'Mercury Rising',\n",
       " 'Four Days in September',\n",
       " 'Newton Boys, The',\n",
       " 'Truman Show, The',\n",
       " 'Letter From Death Row, A',\n",
       " 'Hurricane Streets',\n",
       " 'Sliding Doors',\n",
       " 'Mighty, The',\n",
       " 'Man in the Iron Mask, The',\n",
       " 'Duoluo tianshi',\n",
       " 'Magic Hour, The',\n",
       " 'Price Above Rubies, A',\n",
       " 'Hurricane Streets',\n",
       " 'Tokyo Fist',\n",
       " 'Butcher Boy, The',\n",
       " 'Men With Guns',\n",
       " 'Hana-bi',\n",
       " 'Niagara, Niagara',\n",
       " 'Butcher Boy, The',\n",
       " 'Spanish Prisoner, The',\n",
       " 'Further Gesture, A',\n",
       " \"Mat' i syn\",\n",
       " 'Sliding Doors']"
      ]
     },
     "execution_count": 40,
     "metadata": {},
     "output_type": "execute_result"
    }
   ],
   "source": [
    "mufaj_ev_szerint[\"drama\"][1998]"
   ]
  },
  {
   "cell_type": "markdown",
   "metadata": {},
   "source": [
    "Olvassuk be a második filmes adatbázisunkat is egy dictionary-be! Először használjuk az eredeti beolvasó függvényt:"
   ]
  },
  {
   "cell_type": "code",
   "execution_count": 41,
   "metadata": {
    "collapsed": true
   },
   "outputs": [],
   "source": [
    "def adatot_beolvas(fajlnev):\n",
    "    f = open(fajlnev, 'r', encoding=\"utf-8\")\n",
    "    fejlec = f.readline().strip().split('\\t')\n",
    "    mezok_szama = len(fejlec)\n",
    "    adat = []\n",
    "    for i in range(mezok_szama):\n",
    "        adat.append([])\n",
    "    print('mezok szama:', mezok_szama)\n",
    "    for sor in f:\n",
    "        mezok = sor.strip('\\n').split('\\t')\n",
    "        for i in range(mezok_szama):\n",
    "            adat[i].append(mezok[i].strip())\n",
    "\n",
    "    return adat, fejlec  "
   ]
  },
  {
   "cell_type": "code",
   "execution_count": 42,
   "metadata": {},
   "outputs": [
    {
     "name": "stdout",
     "output_type": "stream",
     "text": [
      "mezok szama: 28\n"
     ]
    }
   ],
   "source": [
    "import os\n",
    "adat_fajl = os.path.join(\"data\", \"movie_data.tsv\")\n",
    "adat, fejlec = adatot_beolvas(adat_fajl)"
   ]
  },
  {
   "cell_type": "code",
   "execution_count": 43,
   "metadata": {},
   "outputs": [
    {
     "data": {
      "text/plain": [
       "['color',\n",
       " 'director_name',\n",
       " 'num_critic_for_reviews',\n",
       " 'duration',\n",
       " 'director_facebook_likes',\n",
       " 'actor_3_facebook_likes',\n",
       " 'actor_2_name',\n",
       " 'actor_1_facebook_likes',\n",
       " 'gross',\n",
       " 'genres',\n",
       " 'actor_1_name',\n",
       " 'movie_title',\n",
       " 'num_voted_users',\n",
       " 'cast_total_facebook_likes',\n",
       " 'actor_3_name',\n",
       " 'facenumber_in_poster',\n",
       " 'plot_keywords',\n",
       " 'movie_imdb_link',\n",
       " 'num_user_for_reviews',\n",
       " 'language',\n",
       " 'country',\n",
       " 'content_rating',\n",
       " 'budget',\n",
       " 'title_year',\n",
       " 'actor_2_facebook_likes',\n",
       " 'imdb_score',\n",
       " 'aspect_ratio',\n",
       " 'movie_facebook_likes']"
      ]
     },
     "execution_count": 43,
     "metadata": {},
     "output_type": "execute_result"
    }
   ],
   "source": [
    "fejlec"
   ]
  },
  {
   "cell_type": "markdown",
   "metadata": {},
   "source": [
    "Majd írjunk egy függvényt, ami dict-ekbe konvertálja az adatot. Azt is meg kell tudnunk adni a függvénynek, hogy melyik mező legyen a kulcs:"
   ]
  },
  {
   "cell_type": "code",
   "execution_count": 44,
   "metadata": {
    "collapsed": true
   },
   "outputs": [],
   "source": [
    "def adatbol_dict(adat, fejlec, kulcs_mezo):\n",
    "    kimenet = {}\n",
    "    mezok_szama = len(adat)\n",
    "    adat_meret = len(adat[0])\n",
    "    kulcs_oszlop = fejlec.index(kulcs_mezo)\n",
    "    for i in range(adat_meret):\n",
    "        kulcs = adat[kulcs_oszlop][i]\n",
    "        if kulcs not in kimenet:\n",
    "            kimenet[kulcs] = []\n",
    "        film = {}\n",
    "        for n in range(mezok_szama):\n",
    "            mezo = fejlec[n]\n",
    "            ertek = adat[n][i]\n",
    "            film[mezo] = ertek\n",
    "        kimenet[kulcs].append(film)\n",
    "    return kimenet    "
   ]
  },
  {
   "cell_type": "markdown",
   "metadata": {},
   "source": [
    "Próbáljuk ki, éptsünk adatot, amiben a főszereplő neve a kulcs:"
   ]
  },
  {
   "cell_type": "code",
   "execution_count": 45,
   "metadata": {},
   "outputs": [],
   "source": [
    "szinesz_szerint = adatbol_dict(adat, fejlec, \"actor_1_name\")"
   ]
  },
  {
   "cell_type": "markdown",
   "metadata": {},
   "source": [
    "Most nézzük meg, mit tudunk Brad Pitt első filmjéről az adatban:"
   ]
  },
  {
   "cell_type": "code",
   "execution_count": 46,
   "metadata": {},
   "outputs": [
    {
     "data": {
      "text/plain": [
       "{'actor_1_facebook_likes': '11000',\n",
       " 'actor_1_name': 'Brad Pitt',\n",
       " 'actor_2_facebook_likes': '1000',\n",
       " 'actor_2_name': 'Jason Flemyng',\n",
       " 'actor_3_facebook_likes': '919',\n",
       " 'actor_3_name': 'Julia Ormond',\n",
       " 'aspect_ratio': '2.35',\n",
       " 'budget': '150000000',\n",
       " 'cast_total_facebook_likes': '13333',\n",
       " 'color': 'Color',\n",
       " 'content_rating': 'PG-13',\n",
       " 'country': 'USA',\n",
       " 'director_facebook_likes': '21000',\n",
       " 'director_name': 'David Fincher',\n",
       " 'duration': '166',\n",
       " 'facenumber_in_poster': '2',\n",
       " 'genres': 'Drama|Fantasy|Romance',\n",
       " 'gross': '127490802',\n",
       " 'imdb_score': '7.8',\n",
       " 'language': 'English',\n",
       " 'movie_facebook_likes': '23000',\n",
       " 'movie_imdb_link': 'http://www.imdb.com/title/tt0421715/?ref_=fn_tt_tt_1',\n",
       " 'movie_title': 'The Curious Case of Benjamin Button',\n",
       " 'num_critic_for_reviews': '362',\n",
       " 'num_user_for_reviews': '822',\n",
       " 'num_voted_users': '459346',\n",
       " 'plot_keywords': 'deformed baby|diary|lingerie slip|older man younger woman relationship|premature aging',\n",
       " 'title_year': '2008'}"
      ]
     },
     "execution_count": 46,
     "metadata": {},
     "output_type": "execute_result"
    }
   ],
   "source": [
    "szinesz_szerint[\"Brad Pitt\"][0]"
   ]
  },
  {
   "cell_type": "code",
   "execution_count": 47,
   "metadata": {},
   "outputs": [
    {
     "data": {
      "text/plain": [
       "{'actor_1_facebook_likes': '11000',\n",
       " 'actor_1_name': 'Brad Pitt',\n",
       " 'actor_2_facebook_likes': '422',\n",
       " 'actor_2_name': 'Tina Louise',\n",
       " 'actor_3_facebook_likes': '329',\n",
       " 'actor_3_name': 'Nick Cave',\n",
       " 'aspect_ratio': '1.85',\n",
       " 'budget': '500000',\n",
       " 'cast_total_facebook_likes': '11839',\n",
       " 'color': 'Black and White',\n",
       " 'content_rating': 'R',\n",
       " 'country': 'Switzerland',\n",
       " 'director_facebook_likes': '32',\n",
       " 'director_name': 'Tom DiCillo',\n",
       " 'duration': '97',\n",
       " 'facenumber_in_poster': '0',\n",
       " 'genres': 'Comedy|Music|Romance',\n",
       " 'gross': '',\n",
       " 'imdb_score': '5.8',\n",
       " 'language': 'English',\n",
       " 'movie_facebook_likes': '344',\n",
       " 'movie_imdb_link': 'http://www.imdb.com/title/tt0104567/?ref_=fn_tt_tt_1',\n",
       " 'movie_title': 'Johnny Suede',\n",
       " 'num_critic_for_reviews': '10',\n",
       " 'num_user_for_reviews': '24',\n",
       " 'num_voted_users': '3013',\n",
       " 'plot_keywords': 'idol|musician|vomiting|watching television|wyoming',\n",
       " 'title_year': '1991'}"
      ]
     },
     "execution_count": 47,
     "metadata": {},
     "output_type": "execute_result"
    }
   ],
   "source": [
    "szinesz_szerint[\"Brad Pitt\"][-1]"
   ]
  },
  {
   "cell_type": "markdown",
   "metadata": {},
   "source": [
    "Látható, hogy egy sokkal olvashatóbb formátumot hoztunk létre, amiben keresni is egyszerűbb"
   ]
  },
  {
   "cell_type": "markdown",
   "metadata": {},
   "source": [
    "### A kivételkezelés\n",
    "Nézzük meg, miből épül fel egy kivétel, okozzunk egyet:\n",
    "\n",
    "`4/0`\n",
    "\n",
    "``` python\n",
    "---------------------------------------------------------------------------\n",
    "ValueError\n",
    "Traceback (most recent call last)\n",
    "<ipython-input-73-2107a36c2657> in <module>()\n",
    "----> 1 int(\"pingvin\")\n",
    "ZeroDivisionError: division by zero\n",
    "```\n",
    "\n",
    "Az utolsó sor megadja a kivétel típusát (jelen esetben`ZeroDivisionError`), ezt követi bármilyen további információ, amit tudhatunk az adott hiba okáról. Az utolsó sor előtti rész mutatja meg, hogy melyik sorok futtatásánál keletkezett a hiba. Nézzünk még egy példát:\n",
    "\n",
    "\n",
    "`int(\"pingvin\")`\n",
    "\n",
    "``` python\n",
    "---------------------------------------------------------------------------\n",
    "ValueError Traceback (most recent call last)\n",
    "<ipython-input-73-2107a36c2657> in <module>()\n",
    "----> 1 int(\"pingvin\")\n",
    "\n",
    "ValueError: invalid literal for int() with base 10: 'pingvin'\n",
    "```\n",
    "\n",
    "Amikor egy szót próbálunk számmá konvertálni, `ValueError` keletkezik, de ennél többet is tudunk, a : utáni rész részletezi a hibát, ti. hogy a `\"pingvin\"` nem értelmezhető számként (10-es számrendszerben).\n",
    "\n",
    "Kivételkezelésnek azt hívjuk, amikor a kódot előre felkészítjük arra, hogy bizonyos típusú kivételeket \"elviseljen\", vagyis ha adott típusú hibákat okoz a futása, akkor ne álljon le, hanem valamit reagáljon. Az alábbi kód például beolvas egy számot, és ha nem tudja int-té konvertálni, akkor ezt írja ki."
   ]
  },
  {
   "cell_type": "code",
   "execution_count": 48,
   "metadata": {},
   "outputs": [
    {
     "name": "stdout",
     "output_type": "stream",
     "text": [
      "10  négyzete  100\n",
      "11  négyzete  121\n",
      "12  négyzete  144\n",
      "asdf  >> nem szám!\n",
      "13  négyzete  169\n"
     ]
    }
   ],
   "source": [
    "lista = [10, 11, 12, 'asdf', 13]\n",
    "for elem in lista:\n",
    "    try:\n",
    "        szam = int(elem)\n",
    "        print(szam, \" négyzete \", szam ** 2)\n",
    "    except ValueError:\n",
    "        print(elem, \" >> nem szám!\")\n",
    "    "
   ]
  },
  {
   "cell_type": "markdown",
   "metadata": {},
   "source": [
    "A `try` és `except` szavak közötti blokkba kell írni azokat a parancsokat, amelyek során hibára számítunk. Az except után kell felsorolni azokat a hibatípusokat, amelyeket \"el kell kapni\", és ezt követi az a blokk, ami megadja, a hiba jelentkezése esetén milyen kód fusson le.\n",
    "\n",
    "Így aztán például megírhatunk egy fájl-beolvasó függvényt úgy, hogy ne okozzon problémát, ha a fájl egy-két sora hibás, vagy csak másmilyen, mint a többi."
   ]
  },
  {
   "cell_type": "markdown",
   "metadata": {
    "collapsed": true
   },
   "source": [
    "## _Used sources_ / Felhasznált források\n",
    "- [Shannon Turner: Python lessons repository](https://github.com/shannonturner/python-lessons) MIT license (c) Shannon Turner 2013-2014\n",
    "- [Siki Zoltán: Python mogyoróhéjban](http://www.agt.bme.hu/gis/python/python_oktato.pdf) GNU FDL license (c) Siki Zoltán\n",
    "- [BME AUT](https://github.com/bmeaut) MIT License Copyright (c) BME AUT 2016-2018"
   ]
  }
 ],
 "metadata": {
  "kernelspec": {
   "display_name": "Python 3",
   "language": "python",
   "name": "python3"
  },
  "language_info": {
   "codemirror_mode": {
    "name": "ipython",
    "version": 3
   },
   "file_extension": ".py",
   "mimetype": "text/x-python",
   "name": "python",
   "nbconvert_exporter": "python",
   "pygments_lexer": "ipython3",
   "version": "3.6.5"
  }
 },
 "nbformat": 4,
 "nbformat_minor": 1
}
