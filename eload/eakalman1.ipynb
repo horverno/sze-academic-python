{
 "cells": [
  {
   "cell_type": "markdown",
   "metadata": {},
   "source": [
    "## Kálmán filter in 2D\n",
    "GPS+IMU fusion"
   ]
  },
  {
   "cell_type": "code",
   "execution_count": 2,
   "metadata": {},
   "outputs": [],
   "source": [
    "import matplotlib.pyplot as plt\n",
    "import numpy as np\n",
    "from scipy.stats import norm\n",
    "from sympy import Symbol, Matrix\n",
    "from sympy.interactive import printing"
   ]
  },
  {
   "cell_type": "markdown",
   "metadata": {},
   "source": [
    "Example"
   ]
  },
  {
   "cell_type": "code",
   "execution_count": 11,
   "metadata": {},
   "outputs": [
    {
     "name": "stdout",
     "output_type": "stream",
     "text": [
      "mean:           12.2149585383803\n",
      "std deviation:  4.1213744424815175\n"
     ]
    },
    {
     "data": {
      "image/png": "[encoded data removed]",
      "text/plain": [
       "<Figure size 432x288 with 1 Axes>"
      ]
     },
     "metadata": {
      "needs_background": "light"
     },
     "output_type": "display_data"
    }
   ],
   "source": [
    "example = np.random.normal(12, 4, 500)\n",
    "plt.hist(example, 20, density = True, label=\"example sensor readings\")\n",
    "e_mu, e_std = norm.fit(example)\n",
    "print(\"mean:          \", e_mu)\n",
    "print(\"std deviation: \", e_std)\n",
    "xmin, xmax = plt.xlim()\n",
    "e_x = np.linspace(xmin, xmax, 100)\n",
    "p = norm.pdf(e_x, e_mu, e_std)\n",
    "plt.plot(e_x, p, 'k', linewidth=2, label=\"norm\")\n",
    "plt.show()\n",
    "\n"
   ]
  },
  {
   "cell_type": "code",
   "execution_count": null,
   "metadata": {},
   "outputs": [],
   "source": [
    "\n",
    "x = np.matrix([[0.0, 0.0, 0.0, 0.0, 0.0, 0.0]]).T\n",
    "n = x.size  # States\n",
    "P = np.matrix(\n",
    "    [\n",
    "        [10.0, 0.0, 0.0, 0.0, 0.0, 0.0],\n",
    "        [0.0, 10.0, 0.0, 0.0, 0.0, 0.0],\n",
    "        [0.0, 0.0, 10.0, 0.0, 0.0, 0.0],\n",
    "        [0.0, 0.0, 0.0, 10.0, 0.0, 0.0],\n",
    "        [0.0, 0.0, 0.0, 0.0, 10.0, 0.0],\n",
    "        [0.0, 0.0, 0.0, 0.0, 0.0, 10.0],\n",
    "    ]\n",
    ")\n",
    "#print(P)\n",
    "\n",
    "fig = plt.figure(figsize=(6, 6))\n",
    "im = plt.imshow(P, interpolation=\"none\", cmap=plt.get_cmap(\"BuGn\"))\n",
    "plt.title(\"Initial Covariance Matrix $P$\")\n",
    "ylocs, ylabels = plt.yticks()\n",
    "# set the locations of the yticks\n",
    "plt.yticks(np.arange(7))\n",
    "# set the locations and labels of the yticks\n",
    "plt.yticks(\n",
    "    np.arange(6),\n",
    "    (\"$x$\", \"$y$\", \"$\\dot x$\", \"$\\dot y$\", \"$\\ddot x$\", \"$\\ddot y$\"),\n",
    "    fontsize=22,\n",
    ")\n",
    "\n",
    "xlocs, xlabels = plt.xticks()\n",
    "# set the locations of the yticks\n",
    "plt.xticks(np.arange(7))\n",
    "# set the locations and labels of the yticks\n",
    "plt.xticks(\n",
    "    np.arange(6),\n",
    "    (\"$x$\", \"$y$\", \"$\\dot x$\", \"$\\dot y$\", \"$\\ddot x$\", \"$\\ddot y$\"),\n",
    "    fontsize=22,\n",
    ")\n",
    "\n",
    "plt.xlim([-0.5, 5.5])\n",
    "plt.ylim([5.5, -0.5])\n",
    "\n",
    "from mpl_toolkits.axes_grid1 import make_axes_locatable\n",
    "\n",
    "divider = make_axes_locatable(plt.gca())\n",
    "cax = divider.append_axes(\"right\", \"5%\", pad=\"3%\")\n",
    "plt.colorbar(im, cax=cax)\n",
    "plt.tight_layout()"
   ]
  },
  {
   "cell_type": "markdown",
   "metadata": {},
   "source": []
  },
  {
   "cell_type": "code",
   "execution_count": 23,
   "metadata": {},
   "outputs": [
    {
     "data": {
      "text/plain": [
       "'\\nfig = plt.figure(figsize=(6, 6))\\nim = plt.imshow(A, interpolation=\"none\", cmap=plt.get_cmap(\"BuGn\"))\\nplt.title(\"Matrix $A$\")\\ndivider = make_axes_locatable(plt.gca())\\ncax = divider.append_axes(\"right\", \"5%\", pad=\"3%\")\\nplt.colorbar(im, cax=cax)\\nplt.tight_layout()\\n'"
      ]
     },
     "execution_count": 23,
     "metadata": {},
     "output_type": "execute_result"
    }
   ],
   "source": [
    "dt = 0.1  # Time Step between Filter Steps\n",
    "\n",
    "A = np.matrix(\n",
    "    [\n",
    "        [1.0, 0.0, dt, 0.0, 1 / 2.0 * dt ** 2, 0.0],\n",
    "        [0.0, 1.0, 0.0, dt, 0.0, 1 / 2.0 * dt ** 2],\n",
    "        [0.0, 0.0, 1.0, 0.0, dt, 0.0],\n",
    "        [0.0, 0.0, 0.0, 1.0, 0.0, dt],\n",
    "        [0.0, 0.0, 0.0, 0.0, 1.0, 0.0],\n",
    "        [0.0, 0.0, 0.0, 0.0, 0.0, 1.0],\n",
    "    ]\n",
    ")\n",
    "\"\"\"\n",
    "fig = plt.figure(figsize=(6, 6))\n",
    "im = plt.imshow(A, interpolation=\"none\", cmap=plt.get_cmap(\"BuGn\"))\n",
    "plt.title(\"Matrix $A$\")\n",
    "divider = make_axes_locatable(plt.gca())\n",
    "cax = divider.append_axes(\"right\", \"5%\", pad=\"3%\")\n",
    "plt.colorbar(im, cax=cax)\n",
    "plt.tight_layout()\n",
    "\"\"\""
   ]
  },
  {
   "cell_type": "code",
   "execution_count": 24,
   "metadata": {},
   "outputs": [],
   "source": [
    "H = np.matrix(\n",
    "    [\n",
    "        [0.0, 0.0, 0.0, 0.0, 1.0, 0.0],\n",
    "        [0.0, 0.0, 0.0, 0.0, 0.0, 1.0],\n",
    "        [1.0, 0.0, 0.0, 0.0, 0.0, 0.0],\n",
    "        [0.0, 1.0, 0.0, 0.0, 0.0, 0.0],\n",
    "    ]\n",
    ")"
   ]
  },
  {
   "cell_type": "code",
   "execution_count": 25,
   "metadata": {},
   "outputs": [],
   "source": [
    "ra = 10.0 ** 2\n",
    "rp = 2.0 ** 2\n",
    "\n",
    "R = np.matrix(\n",
    "    [[ra, 0.0, 0.0, 0.0], [0.0, ra, 0.0, 0.0], [0.0, 0.0, rp, 0.0], [0.0, 0.0, 0.0, rp]]\n",
    ")"
   ]
  },
  {
   "cell_type": "code",
   "execution_count": 32,
   "metadata": {},
   "outputs": [
    {
     "data": {
      "text/plain": [
       "'\\nfig = plt.figure(figsize=(6, 6))\\nim = plt.imshow(Q, interpolation=\"none\", cmap=plt.get_cmap(\"BuGn\"))\\nplt.title(\"Matrix $Q$\")\\ndivider = make_axes_locatable(plt.gca())\\ncax = divider.append_axes(\"right\", \"5%\", pad=\"3%\")\\nplt.colorbar(im, cax=cax)\\nplt.tight_layout()\\nprint(Q)\\n'"
      ]
     },
     "execution_count": 32,
     "metadata": {},
     "output_type": "execute_result"
    }
   ],
   "source": [
    "sj = 0.1\n",
    "dts = Symbol(\"\\Delta t\")\n",
    "Q = (\n",
    "    np.matrix(\n",
    "        [\n",
    "            [(dt ** 6) / 36, 0, (dt ** 5) / 12, 0, (dt ** 4) / 6, 0],\n",
    "            [0, (dt ** 6) / 36, 0, (dt ** 5) / 12, 0, (dt ** 4) / 6],\n",
    "            [(dt ** 5) / 12, 0, (dt ** 4) / 4, 0, (dt ** 3) / 2, 0],\n",
    "            [0, (dt ** 5) / 12, 0, (dt ** 4) / 4, 0, (dt ** 3) / 2],\n",
    "            [(dt ** 4) / 6, 0, (dt ** 3) / 2, 0, (dt ** 2), 0],\n",
    "            [0, (dt ** 4) / 6, 0, (dt ** 3) / 2, 0, (dt ** 2)],\n",
    "        ]\n",
    "    )\n",
    "    * sj ** 2\n",
    ")\n",
    "\"\"\"\n",
    "fig = plt.figure(figsize=(6, 6))\n",
    "im = plt.imshow(Q, interpolation=\"none\", cmap=plt.get_cmap(\"BuGn\"))\n",
    "plt.title(\"Matrix $Q$\")\n",
    "divider = make_axes_locatable(plt.gca())\n",
    "cax = divider.append_axes(\"right\", \"5%\", pad=\"3%\")\n",
    "plt.colorbar(im, cax=cax)\n",
    "plt.tight_layout()\n",
    "print(Q)\n",
    "\"\"\""
   ]
  },
  {
   "cell_type": "markdown",
   "metadata": {},
   "source": [
    "Used sources:\n",
    "- https://github.com/udacity/robot_pose_ekf\n",
    "- https://github.com/TUMFTM\n",
    "- https://github.com/cggos/imu_x_fusion\n",
    "- https://github.com/PRBonn/LiDAR-MOS"
   ]
  }
 ],
 "metadata": {
  "interpreter": {
   "hash": "31f2aee4e71d21fbe5cf8b01ff0e069b9275f58929596ceb00d14d90e3e16cd6"
  },
  "kernelspec": {
   "display_name": "Python 3.6.9 64-bit",
   "language": "python",
   "name": "python3"
  },
  "language_info": {
   "codemirror_mode": {
    "name": "ipython",
    "version": 3
   },
   "file_extension": ".py",
   "mimetype": "text/x-python",
   "name": "python",
   "nbconvert_exporter": "python",
   "pygments_lexer": "ipython3",
   "version": "3.6.9"
  },
  "orig_nbformat": 4
 },
 "nbformat": 4,
 "nbformat_minor": 2
}
