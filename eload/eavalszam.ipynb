{
 "cells": [
  {
   "cell_type": "markdown",
   "metadata": {},
   "source": [
    "# Valószínűségszámítás pythonnal\n",
    "\n",
    "A következőkben arra láthatunk példákat, hogy akár pszeudó-véleltlenszám generálásával is hasonló eredményre juthatunk, mint azt a valószínűség számítás során megtanulhattuk.\n",
    "\n",
    "Többek között mintapéldákat oldunk meg Harmati István vizsgái közül:\n",
    "\n",
    "[www.sze.hu/~harmati/valszam/vizsga/valszamBSC_mintavizsga.pdf](http://www.sze.hu/~harmati/valszam/vizsga/valszamBSC_mintavizsga.pdf)"
   ]
  },
  {
   "cell_type": "markdown",
   "metadata": {},
   "source": [
    "### Pénzérme dobása\n",
    "\n",
    "Dobjunk fel (virtuálisan) egy pénzérmét - mondjuk 500-szor - és számoljuk meg, mekkora a fejek aránya. (Értelemszerűen 0,5-hez kell korrelálnia, de nézzük meg ezt egy plot segítségével is)\n"
   ]
  },
  {
   "cell_type": "code",
   "execution_count": 1,
   "metadata": {},
   "outputs": [
    {
     "data": {
      "image/png": "[encoded data removed]",
      "text/plain": [
       "<Figure size 432x288 with 1 Axes>"
      ]
     },
     "metadata": {
      "needs_background": "light"
     },
     "output_type": "display_data"
    }
   ],
   "source": [
    "import numpy as np\n",
    "import matplotlib.pyplot as plt\n",
    "%matplotlib inline\n",
    "# hányszor ismételjük?\n",
    "db = 500\n",
    "# dobások db számosságú array, 0 vagy 1 (diszkrét, egyenletes eloszlás)\n",
    "dobasok = np.random.randint(2, size=db)\n",
    "for i in range(1, db):\n",
    "    plt.plot(i, np.sum(dobasok[0:(i+1)]) / i, \"b*\")\n",
    "plt.grid(True)\n",
    "plt.ylim(0, 1)\n",
    "plt.show()"
   ]
  },
  {
   "cell_type": "markdown",
   "metadata": {},
   "source": [
    "### Példa\n",
    "\n",
    "Példa az előbb említettek közül:\n",
    "[www.sze.hu/~harmati/valszam/vizsga/valszamBSC_mintavizsga.pdf](http://www.sze.hu/~harmati/valszam/vizsga/valszamBSC_mintavizsga.pdf)\n",
    "\n",
    "Egy dobozban 20 fehér golyó van. Egy szabályos dobókockával dobunk, majd a következőt tesszük: \n",
    " - ha a dobott szám 1, 2 vagy 3, akkor tíz golyót cserélünk ki pirosra; \n",
    " - ha a dobott szám 4 vagy 5, akkor hat golyót cserélünk pirosra; \n",
    " - ha a dobott szám 6, akkor tizenkét golyót cserélünk pirosra. \n",
    "\n",
    "Ezután véletlenszerűen húzunk egy golyót a dobozból.\n",
    " - a) Mi a valószínűsége annak, hogy pirosat húzunk? (0,45) \n",
    " - b) Feltéve, hogy pirosat húztunk, mi a valószínűsége, hogy hatost dobtunk? (2/9 ≈ 0,2222)"
   ]
  },
  {
   "cell_type": "code",
   "execution_count": 2,
   "metadata": {},
   "outputs": [
    {
     "name": "stdout",
     "output_type": "stream",
     "text": [
      "A válasz: 0.4480 (100000 dobásnál, minél nagyobb szám, annál jobban közelíti a 0,45-t) \n",
      "B válasz: 0.2225 (100000 dobásnál, minél nagyobb szám, annál jobban közelíti a 0,2222-t) \n"
     ]
    }
   ],
   "source": [
    "import numpy as np\n",
    "import matplotlib.pyplot as plt\n",
    "\n",
    "\n",
    "# hányszor ismételjük?\n",
    "db = 100000\n",
    "\n",
    "# dobások db számosságú array, 1-6 között (diszkrét, egyenletes eloszlás)\n",
    "dobasok = np.random.randint(6, size=db) + 1\n",
    "\n",
    "eredmeny_a = 0\n",
    "eredmeny_b = 0\n",
    "# darabszám, feltéve, hogy pirosat húztunk \n",
    "db_piros = 0\n",
    "\n",
    "for d in dobasok:\n",
    "    # False = Fehér\n",
    "    # True = Piros\n",
    "    golyok = np.full((20), False, dtype=bool)\n",
    "    if d == 1 or d == 2 or d == 3:\n",
    "        golyok[0:10] = True\n",
    "    elif d == 4 or d == 5:\n",
    "        golyok[0:6] = True\n",
    "    else:\n",
    "        golyok[0:12] = True\n",
    "    huzas = golyok[np.random.randint(20)]   \n",
    "    eredmeny_a += huzas\n",
    "    # Ha pirosat húztunk\n",
    "    if huzas == True:\n",
    "        db_piros += 1\n",
    "        if d == 6:\n",
    "            eredmeny_b += 1\n",
    "\n",
    "print(\"A válasz: %.4f (%d dobásnál, minél nagyobb szám, annál jobban közelíti a 0,45-t) \" % (eredmeny_a / db, db))\n",
    "print(\"B válasz: %.4f (%d dobásnál, minél nagyobb szám, annál jobban közelíti a 0,2222-t) \" % (eredmeny_b / db_piros, db))"
   ]
  },
  {
   "cell_type": "markdown",
   "metadata": {},
   "source": [
    "### _Used sources_ / Felhasznált források\n",
    "- [Shannon Turner: Python lessons repository](https://github.com/shannonturner/python-lessons) MIT license (c) Shannon Turner 2013-2014\n",
    "- [Siki Zoltán: Python mogyoróhéjban](http://www.agt.bme.hu/gis/python/python_oktato.pdf) GNU FDL license (c) Siki Zoltán\n",
    "- [BME AUT](https://github.com/bmeaut) MIT License Copyright (c) BME AUT 2016-2018"
   ]
  }
 ],
 "metadata": {
  "kernelspec": {
   "display_name": "Python 3",
   "language": "python",
   "name": "python3"
  },
  "language_info": {
   "codemirror_mode": {
    "name": "ipython",
    "version": 3
   },
   "file_extension": ".py",
   "mimetype": "text/x-python",
   "name": "python",
   "nbconvert_exporter": "python",
   "pygments_lexer": "ipython3",
   "version": "3.7.4"
  }
 },
 "nbformat": 4,
 "nbformat_minor": 2
}
